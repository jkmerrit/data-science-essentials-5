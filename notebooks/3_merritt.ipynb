{
 "cells": [
  {
   "cell_type": "markdown",
   "id": "aff0e1d1",
   "metadata": {},
   "source": [
    "# Week 3 coding tasks (building from week 2)\n",
    "## J.Merritt 2022_09_26"
   ]
  },
  {
   "cell_type": "markdown",
   "id": "8f330993",
   "metadata": {},
   "source": [
    "**1. First, import the primary care physicians dataset (`primary_care_physicians.csv`) into a data frame named `physicians`.**"
   ]
  },
  {
   "cell_type": "code",
   "execution_count": 70,
   "id": "53acd0ed",
   "metadata": {},
   "outputs": [],
   "source": [
    "import pandas as pd\n",
    "import matplotlib.pyplot as plt\n",
    "import seaborn as sns\n",
    "from jupyterthemes import jtplot\n",
    "jtplot.style('monokai')"
   ]
  },
  {
   "cell_type": "code",
   "execution_count": 2,
   "id": "0d1200dd",
   "metadata": {},
   "outputs": [],
   "source": [
    "physicians = pd.read_csv('../data/primary_care_physicians.csv')"
   ]
  },
  {
   "cell_type": "code",
   "execution_count": 3,
   "id": "fd5475b7",
   "metadata": {},
   "outputs": [
    {
     "data": {
      "text/html": [
       "<div>\n",
       "<style scoped>\n",
       "    .dataframe tbody tr th:only-of-type {\n",
       "        vertical-align: middle;\n",
       "    }\n",
       "\n",
       "    .dataframe tbody tr th {\n",
       "        vertical-align: top;\n",
       "    }\n",
       "\n",
       "    .dataframe thead th {\n",
       "        text-align: right;\n",
       "    }\n",
       "</style>\n",
       "<table border=\"1\" class=\"dataframe\">\n",
       "  <thead>\n",
       "    <tr style=\"text-align: right;\">\n",
       "      <th></th>\n",
       "      <th>FIPS</th>\n",
       "      <th>state</th>\n",
       "      <th>county</th>\n",
       "      <th>primary_care_physicians</th>\n",
       "    </tr>\n",
       "  </thead>\n",
       "  <tbody>\n",
       "    <tr>\n",
       "      <th>0</th>\n",
       "      <td>1001</td>\n",
       "      <td>Alabama</td>\n",
       "      <td>Autauga</td>\n",
       "      <td>26.0</td>\n",
       "    </tr>\n",
       "    <tr>\n",
       "      <th>1</th>\n",
       "      <td>1003</td>\n",
       "      <td>Alabama</td>\n",
       "      <td>Baldwin</td>\n",
       "      <td>153.0</td>\n",
       "    </tr>\n",
       "    <tr>\n",
       "      <th>2</th>\n",
       "      <td>1005</td>\n",
       "      <td>Alabama</td>\n",
       "      <td>Barbour</td>\n",
       "      <td>8.0</td>\n",
       "    </tr>\n",
       "    <tr>\n",
       "      <th>3</th>\n",
       "      <td>1007</td>\n",
       "      <td>Alabama</td>\n",
       "      <td>Bibb</td>\n",
       "      <td>12.0</td>\n",
       "    </tr>\n",
       "    <tr>\n",
       "      <th>4</th>\n",
       "      <td>1009</td>\n",
       "      <td>Alabama</td>\n",
       "      <td>Blount</td>\n",
       "      <td>12.0</td>\n",
       "    </tr>\n",
       "  </tbody>\n",
       "</table>\n",
       "</div>"
      ],
      "text/plain": [
       "   FIPS    state   county  primary_care_physicians\n",
       "0  1001  Alabama  Autauga                     26.0\n",
       "1  1003  Alabama  Baldwin                    153.0\n",
       "2  1005  Alabama  Barbour                      8.0\n",
       "3  1007  Alabama     Bibb                     12.0\n",
       "4  1009  Alabama   Blount                     12.0"
      ]
     },
     "execution_count": 3,
     "metadata": {},
     "output_type": "execute_result"
    }
   ],
   "source": [
    "physicians.head()"
   ]
  },
  {
   "cell_type": "markdown",
   "id": "107d54fd",
   "metadata": {},
   "source": [
    "**2. Filter `physicians` down to just the counties in Tennessee. Save the filtered dataframe back to `physicians`. Verify that the resulting dataframe has 95 rows.**"
   ]
  },
  {
   "cell_type": "code",
   "execution_count": 4,
   "id": "fb7a771f",
   "metadata": {},
   "outputs": [],
   "source": [
    "physicians = physicians.loc[physicians['state'] == 'Tennessee']"
   ]
  },
  {
   "cell_type": "code",
   "execution_count": 5,
   "id": "820f1fec",
   "metadata": {},
   "outputs": [
    {
     "data": {
      "text/plain": [
       "<bound method DataFrame.info of        FIPS      state      county  primary_care_physicians\n",
       "2432  47001  Tennessee    Anderson                     39.0\n",
       "2433  47003  Tennessee     Bedford                     15.0\n",
       "2434  47005  Tennessee      Benton                      3.0\n",
       "2435  47007  Tennessee     Bledsoe                      1.0\n",
       "2436  47009  Tennessee      Blount                     90.0\n",
       "...     ...        ...         ...                      ...\n",
       "2522  47181  Tennessee       Wayne                      5.0\n",
       "2523  47183  Tennessee     Weakley                     18.0\n",
       "2524  47185  Tennessee       White                      9.0\n",
       "2525  47187  Tennessee  Williamson                    338.0\n",
       "2526  47189  Tennessee      Wilson                     43.0\n",
       "\n",
       "[95 rows x 4 columns]>"
      ]
     },
     "execution_count": 5,
     "metadata": {},
     "output_type": "execute_result"
    }
   ],
   "source": [
    "physicians.info"
   ]
  },
  {
   "cell_type": "markdown",
   "id": "d1059311",
   "metadata": {},
   "source": [
    "**3. Look at the distribution of the number of primary care physicians. What do you notice?**\n",
    "##### There is a massive variation in the number of pcp's between counties"
   ]
  },
  {
   "cell_type": "code",
   "execution_count": 6,
   "id": "5c67af43",
   "metadata": {},
   "outputs": [
    {
     "data": {
      "text/plain": [
       "count     95.000000\n",
       "mean      51.042105\n",
       "std      129.311426\n",
       "min        0.000000\n",
       "25%        4.500000\n",
       "50%       12.000000\n",
       "75%       26.500000\n",
       "max      806.000000\n",
       "Name: primary_care_physicians, dtype: float64"
      ]
     },
     "execution_count": 6,
     "metadata": {},
     "output_type": "execute_result"
    }
   ],
   "source": [
    "physicians['primary_care_physicians'].describe()"
   ]
  },
  {
   "cell_type": "code",
   "execution_count": 33,
   "id": "85dd38b8",
   "metadata": {},
   "outputs": [
    {
     "data": {
      "text/plain": [
       "<AxesSubplot:ylabel='Frequency'>"
      ]
     },
     "execution_count": 33,
     "metadata": {},
     "output_type": "execute_result"
    },
    {
     "data": {
      "image/png": "[encoded data removed]",
      "text/plain": [
       "<Figure size 460.8x403.2 with 1 Axes>"
      ]
     },
     "metadata": {},
     "output_type": "display_data"
    }
   ],
   "source": [
    "physicians['primary_care_physicians'].plot(kind = 'hist')"
   ]
  },
  {
   "cell_type": "markdown",
   "id": "8981ba03",
   "metadata": {},
   "source": [
    "**4. Now, import the population by county dataset (`population_by_county.csv`) into a DataFrame named `population`.**"
   ]
  },
  {
   "cell_type": "code",
   "execution_count": 8,
   "id": "940c03d7",
   "metadata": {},
   "outputs": [
    {
     "data": {
      "text/html": [
       "<div>\n",
       "<style scoped>\n",
       "    .dataframe tbody tr th:only-of-type {\n",
       "        vertical-align: middle;\n",
       "    }\n",
       "\n",
       "    .dataframe tbody tr th {\n",
       "        vertical-align: top;\n",
       "    }\n",
       "\n",
       "    .dataframe thead th {\n",
       "        text-align: right;\n",
       "    }\n",
       "</style>\n",
       "<table border=\"1\" class=\"dataframe\">\n",
       "  <thead>\n",
       "    <tr style=\"text-align: right;\">\n",
       "      <th></th>\n",
       "      <th>FIPS</th>\n",
       "      <th>state</th>\n",
       "      <th>county</th>\n",
       "      <th>primary_care_physicians</th>\n",
       "    </tr>\n",
       "  </thead>\n",
       "  <tbody>\n",
       "    <tr>\n",
       "      <th>2514</th>\n",
       "      <td>47165</td>\n",
       "      <td>Tennessee</td>\n",
       "      <td>Sumner</td>\n",
       "      <td>91.0</td>\n",
       "    </tr>\n",
       "    <tr>\n",
       "      <th>2488</th>\n",
       "      <td>47113</td>\n",
       "      <td>Tennessee</td>\n",
       "      <td>Madison</td>\n",
       "      <td>129.0</td>\n",
       "    </tr>\n",
       "    <tr>\n",
       "      <th>2506</th>\n",
       "      <td>47149</td>\n",
       "      <td>Tennessee</td>\n",
       "      <td>Rutherford</td>\n",
       "      <td>137.0</td>\n",
       "    </tr>\n",
       "    <tr>\n",
       "      <th>2513</th>\n",
       "      <td>47163</td>\n",
       "      <td>Tennessee</td>\n",
       "      <td>Sullivan</td>\n",
       "      <td>199.0</td>\n",
       "    </tr>\n",
       "    <tr>\n",
       "      <th>2521</th>\n",
       "      <td>47179</td>\n",
       "      <td>Tennessee</td>\n",
       "      <td>Washington</td>\n",
       "      <td>226.0</td>\n",
       "    </tr>\n",
       "    <tr>\n",
       "      <th>2525</th>\n",
       "      <td>47187</td>\n",
       "      <td>Tennessee</td>\n",
       "      <td>Williamson</td>\n",
       "      <td>338.0</td>\n",
       "    </tr>\n",
       "    <tr>\n",
       "      <th>2464</th>\n",
       "      <td>47065</td>\n",
       "      <td>Tennessee</td>\n",
       "      <td>Hamilton</td>\n",
       "      <td>403.0</td>\n",
       "    </tr>\n",
       "    <tr>\n",
       "      <th>2478</th>\n",
       "      <td>47093</td>\n",
       "      <td>Tennessee</td>\n",
       "      <td>Knox</td>\n",
       "      <td>520.0</td>\n",
       "    </tr>\n",
       "    <tr>\n",
       "      <th>2450</th>\n",
       "      <td>47037</td>\n",
       "      <td>Tennessee</td>\n",
       "      <td>Davidson</td>\n",
       "      <td>665.0</td>\n",
       "    </tr>\n",
       "    <tr>\n",
       "      <th>2510</th>\n",
       "      <td>47157</td>\n",
       "      <td>Tennessee</td>\n",
       "      <td>Shelby</td>\n",
       "      <td>806.0</td>\n",
       "    </tr>\n",
       "  </tbody>\n",
       "</table>\n",
       "</div>"
      ],
      "text/plain": [
       "       FIPS      state      county  primary_care_physicians\n",
       "2514  47165  Tennessee      Sumner                     91.0\n",
       "2488  47113  Tennessee     Madison                    129.0\n",
       "2506  47149  Tennessee  Rutherford                    137.0\n",
       "2513  47163  Tennessee    Sullivan                    199.0\n",
       "2521  47179  Tennessee  Washington                    226.0\n",
       "2525  47187  Tennessee  Williamson                    338.0\n",
       "2464  47065  Tennessee    Hamilton                    403.0\n",
       "2478  47093  Tennessee        Knox                    520.0\n",
       "2450  47037  Tennessee    Davidson                    665.0\n",
       "2510  47157  Tennessee      Shelby                    806.0"
      ]
     },
     "execution_count": 8,
     "metadata": {},
     "output_type": "execute_result"
    }
   ],
   "source": [
    "physicians.sort_values('primary_care_physicians').tail(10)"
   ]
  },
  {
   "cell_type": "code",
   "execution_count": 9,
   "id": "b41d455c",
   "metadata": {},
   "outputs": [],
   "source": [
    "population = pd.read_csv('../data/population_by_county.csv')"
   ]
  },
  {
   "cell_type": "code",
   "execution_count": 10,
   "id": "4a3e2c57",
   "metadata": {},
   "outputs": [
    {
     "data": {
      "text/html": [
       "<div>\n",
       "<style scoped>\n",
       "    .dataframe tbody tr th:only-of-type {\n",
       "        vertical-align: middle;\n",
       "    }\n",
       "\n",
       "    .dataframe tbody tr th {\n",
       "        vertical-align: top;\n",
       "    }\n",
       "\n",
       "    .dataframe thead th {\n",
       "        text-align: right;\n",
       "    }\n",
       "</style>\n",
       "<table border=\"1\" class=\"dataframe\">\n",
       "  <thead>\n",
       "    <tr style=\"text-align: right;\">\n",
       "      <th></th>\n",
       "      <th>FIPS</th>\n",
       "      <th>population</th>\n",
       "      <th>county</th>\n",
       "      <th>state</th>\n",
       "      <th>urban</th>\n",
       "    </tr>\n",
       "  </thead>\n",
       "  <tbody>\n",
       "    <tr>\n",
       "      <th>0</th>\n",
       "      <td>17051</td>\n",
       "      <td>21565</td>\n",
       "      <td>Fayette County</td>\n",
       "      <td>ILLINOIS</td>\n",
       "      <td>Rural</td>\n",
       "    </tr>\n",
       "    <tr>\n",
       "      <th>1</th>\n",
       "      <td>17107</td>\n",
       "      <td>29003</td>\n",
       "      <td>Logan County</td>\n",
       "      <td>ILLINOIS</td>\n",
       "      <td>Rural</td>\n",
       "    </tr>\n",
       "    <tr>\n",
       "      <th>2</th>\n",
       "      <td>17165</td>\n",
       "      <td>23994</td>\n",
       "      <td>Saline County</td>\n",
       "      <td>ILLINOIS</td>\n",
       "      <td>Rural</td>\n",
       "    </tr>\n",
       "    <tr>\n",
       "      <th>3</th>\n",
       "      <td>17097</td>\n",
       "      <td>701473</td>\n",
       "      <td>Lake County</td>\n",
       "      <td>ILLINOIS</td>\n",
       "      <td>Urban</td>\n",
       "    </tr>\n",
       "    <tr>\n",
       "      <th>4</th>\n",
       "      <td>17127</td>\n",
       "      <td>14219</td>\n",
       "      <td>Massac County</td>\n",
       "      <td>ILLINOIS</td>\n",
       "      <td>Rural</td>\n",
       "    </tr>\n",
       "  </tbody>\n",
       "</table>\n",
       "</div>"
      ],
      "text/plain": [
       "    FIPS  population          county     state  urban\n",
       "0  17051       21565  Fayette County  ILLINOIS  Rural\n",
       "1  17107       29003    Logan County  ILLINOIS  Rural\n",
       "2  17165       23994   Saline County  ILLINOIS  Rural\n",
       "3  17097      701473     Lake County  ILLINOIS  Urban\n",
       "4  17127       14219   Massac County  ILLINOIS  Rural"
      ]
     },
     "execution_count": 10,
     "metadata": {},
     "output_type": "execute_result"
    }
   ],
   "source": [
    "population.head()"
   ]
  },
  {
   "cell_type": "markdown",
   "id": "4094a49e",
   "metadata": {},
   "source": [
    "**5. Merge the `physicians` DataFrame with the `population` DataFrame. Keep only the values for Tennessee. When you merge, be sure the include both the `population` and `urban` columns in the merged results. Save the result of the merge back to `physicians`.**"
   ]
  },
  {
   "cell_type": "code",
   "execution_count": 11,
   "id": "8845e808",
   "metadata": {},
   "outputs": [],
   "source": [
    "physicians = pd.merge(left = physicians, \n",
    "                      right = population[['FIPS', 'population', 'urban']], \n",
    "                      on = 'FIPS')"
   ]
  },
  {
   "cell_type": "code",
   "execution_count": 12,
   "id": "2ce7237c",
   "metadata": {},
   "outputs": [],
   "source": [
    "# alternative:\n",
    "# population['county'] = population['county'].str.replace(' County', '')\n",
    "# physicians = pd.merge(left = physicians, \n",
    "#                 right = population.loc[population['state'] \n",
    "#                                        == 'TENNESSEE'][['population', 'urban', 'county']], \n",
    "#                 on = 'county'\n",
    "#                 )"
   ]
  },
  {
   "cell_type": "markdown",
   "id": "f6477a75",
   "metadata": {},
   "source": [
    "**6. How many Tennessee counties are considered urban?**\n",
    "##### 38"
   ]
  },
  {
   "cell_type": "code",
   "execution_count": 13,
   "id": "f763743e",
   "metadata": {},
   "outputs": [
    {
     "data": {
      "text/plain": [
       "38"
      ]
     },
     "execution_count": 13,
     "metadata": {},
     "output_type": "execute_result"
    }
   ],
   "source": [
    "len(physicians.loc[physicians['urban'] == 'Urban'])"
   ]
  },
  {
   "cell_type": "code",
   "execution_count": 14,
   "id": "a019cf9e",
   "metadata": {},
   "outputs": [
    {
     "data": {
      "text/plain": [
       "Rural    57\n",
       "Urban    38\n",
       "Name: urban, dtype: int64"
      ]
     },
     "execution_count": 14,
     "metadata": {},
     "output_type": "execute_result"
    }
   ],
   "source": [
    "physicians['urban'].value_counts()"
   ]
  },
  {
   "cell_type": "markdown",
   "id": "2a76fe0e",
   "metadata": {},
   "source": [
    "**7. The State Health Access Data Assistance Center (SHADAC) (https://www.shadac.org/) classifies counties into three groups based on the number of residents per primary care physician. First, counties with fewer than 1500 residents per primary care physician are considered to have an \"adequate\" supply. Counties with at least 1500 residents but fewer than 3500 residents per primary care physician are considered to have a \"moderately inadequate\" supply, and counties with at least 3500 residents per primary care physician are considered to have a \"low inadequate\" supply. How many counties in Tennessee are in each group?** "
   ]
  },
  {
   "cell_type": "markdown",
   "id": "e3f6b29a",
   "metadata": {},
   "source": [
    "Create a column ('res_per_pcp') with values calculated from the 'population' divided by 'primary_care_physicians'.\n",
    "Create a column 'health_access' populated with NA's, replate with 'adequate', 'moderately_inadequate', or 'low_inadequate' based on the conditions above\n",
    "Create a new data frame ('tn_health_access') that displays the number of counties in each health access descriptor. "
   ]
  },
  {
   "cell_type": "code",
   "execution_count": 15,
   "id": "da1dd154",
   "metadata": {},
   "outputs": [],
   "source": [
    "physicians['res_per_pcp'] = physicians['population'] / physicians['primary_care_physicians']\n",
    "physicians['health_access'] = 'NA'\n",
    "physicians.loc[physicians['res_per_pcp'] < 1500, 'health_access'] = 'adequate'\n",
    "physicians.loc[(physicians['res_per_pcp'] >= 1500) & \n",
    "               (physicians['res_per_pcp'] < 3500), 'health_access'] = 'moderately_inadequate'\n",
    "physicians.loc[(physicians['res_per_pcp'] >= 3500) | \n",
    "               (physicians['primary_care_physicians'] == 0), 'health_access'] = 'low_inadequate'"
   ]
  },
  {
   "cell_type": "code",
   "execution_count": 16,
   "id": "e0a0d96f",
   "metadata": {},
   "outputs": [
    {
     "data": {
      "text/plain": [
       "moderately_inadequate    50\n",
       "low_inadequate           31\n",
       "adequate                 14\n",
       "Name: health_access, dtype: int64"
      ]
     },
     "execution_count": 16,
     "metadata": {},
     "output_type": "execute_result"
    }
   ],
   "source": [
    "physicians['health_access'].value_counts()"
   ]
  },
  {
   "cell_type": "code",
   "execution_count": 17,
   "id": "6bfb036e",
   "metadata": {},
   "outputs": [],
   "source": [
    " tn_health_access = pd.DataFrame()"
   ]
  },
  {
   "cell_type": "code",
   "execution_count": 18,
   "id": "c60d47d1",
   "metadata": {},
   "outputs": [],
   "source": [
    " tn_health_access['health_access'] = ['adequate', 'moderately_inadequate', 'low_inadequate']\n",
    " tn_health_access['counties'] = [len(physicians.loc[physicians['health_access'] == 'adequate']),\n",
    "                                len(physicians.loc[physicians['health_access'] == 'moderately_inadequate']),\n",
    "                                len(physicians.loc[physicians['health_access'] == 'low_inadequate'])\n",
    "                               ]"
   ]
  },
  {
   "cell_type": "code",
   "execution_count": 19,
   "id": "4b4d2fc0",
   "metadata": {},
   "outputs": [
    {
     "data": {
      "text/html": [
       "<div>\n",
       "<style scoped>\n",
       "    .dataframe tbody tr th:only-of-type {\n",
       "        vertical-align: middle;\n",
       "    }\n",
       "\n",
       "    .dataframe tbody tr th {\n",
       "        vertical-align: top;\n",
       "    }\n",
       "\n",
       "    .dataframe thead th {\n",
       "        text-align: right;\n",
       "    }\n",
       "</style>\n",
       "<table border=\"1\" class=\"dataframe\">\n",
       "  <thead>\n",
       "    <tr style=\"text-align: right;\">\n",
       "      <th></th>\n",
       "      <th>health_access</th>\n",
       "      <th>counties</th>\n",
       "    </tr>\n",
       "  </thead>\n",
       "  <tbody>\n",
       "    <tr>\n",
       "      <th>0</th>\n",
       "      <td>adequate</td>\n",
       "      <td>14</td>\n",
       "    </tr>\n",
       "    <tr>\n",
       "      <th>1</th>\n",
       "      <td>moderately_inadequate</td>\n",
       "      <td>50</td>\n",
       "    </tr>\n",
       "    <tr>\n",
       "      <th>2</th>\n",
       "      <td>low_inadequate</td>\n",
       "      <td>31</td>\n",
       "    </tr>\n",
       "  </tbody>\n",
       "</table>\n",
       "</div>"
      ],
      "text/plain": [
       "           health_access  counties\n",
       "0               adequate        14\n",
       "1  moderately_inadequate        50\n",
       "2         low_inadequate        31"
      ]
     },
     "execution_count": 19,
     "metadata": {},
     "output_type": "execute_result"
    }
   ],
   "source": [
    "tn_health_access"
   ]
  },
  {
   "cell_type": "markdown",
   "id": "ddaf96df",
   "metadata": {},
   "source": [
    "**8. Does there appear to be any detectable relationship between whether a county is urban or rural and its supply of primary care physicians?**\n",
    "##### Rural counties are ~twice as likely to have low inadequate access to a pcp than an urban county."
   ]
  },
  {
   "cell_type": "markdown",
   "id": "01727ad5",
   "metadata": {},
   "source": [
    "Append the 'tn_health_access' data frame with new columns ('rural' and 'urban') with values computed for the number of urban or rural counties meeting each health access condition.\n"
   ]
  },
  {
   "cell_type": "code",
   "execution_count": 20,
   "id": "b125b7a0",
   "metadata": {},
   "outputs": [],
   "source": [
    "tn_health_access['urban'] = [len(physicians.loc[(physicians['health_access'] == 'adequate') &\n",
    "                                                (physicians['urban'] == 'Urban')]),\n",
    "                             len(physicians.loc[(physicians['health_access'] == 'moderately_inadequate') &\n",
    "                                                (physicians['urban'] == 'Urban')]),\n",
    "                             len(physicians.loc[(physicians['health_access'] == 'low_inadequate') &\n",
    "                                                (physicians['urban'] == 'Urban')])\n",
    "                               ]"
   ]
  },
  {
   "cell_type": "code",
   "execution_count": 21,
   "id": "8e437ea1",
   "metadata": {},
   "outputs": [],
   "source": [
    "tn_health_access['rural'] = [len(physicians.loc[(physicians['health_access'] == 'adequate') &\n",
    "                                                ~(physicians['urban'] == 'Urban')]),\n",
    "                             len(physicians.loc[(physicians['health_access'] == 'moderately_inadequate') &\n",
    "                                                ~(physicians['urban'] == 'Urban')]),\n",
    "                             len(physicians.loc[(physicians['health_access'] == 'low_inadequate') &\n",
    "                                                ~(physicians['urban'] == 'Urban')])\n",
    "                               ]"
   ]
  },
  {
   "cell_type": "markdown",
   "id": "38966a39",
   "metadata": {},
   "source": [
    "Compute normalized frequency of rural and urban counties within each health access grouping"
   ]
  },
  {
   "cell_type": "code",
   "execution_count": 22,
   "id": "31d60c22",
   "metadata": {},
   "outputs": [],
   "source": [
    "tn_health_access['urban_percentage'] = tn_health_access['urban'] / tn_health_access['counties']"
   ]
  },
  {
   "cell_type": "code",
   "execution_count": 23,
   "id": "6c00b105",
   "metadata": {},
   "outputs": [
    {
     "data": {
      "text/html": [
       "<div>\n",
       "<style scoped>\n",
       "    .dataframe tbody tr th:only-of-type {\n",
       "        vertical-align: middle;\n",
       "    }\n",
       "\n",
       "    .dataframe tbody tr th {\n",
       "        vertical-align: top;\n",
       "    }\n",
       "\n",
       "    .dataframe thead th {\n",
       "        text-align: right;\n",
       "    }\n",
       "</style>\n",
       "<table border=\"1\" class=\"dataframe\">\n",
       "  <thead>\n",
       "    <tr style=\"text-align: right;\">\n",
       "      <th></th>\n",
       "      <th>health_access</th>\n",
       "      <th>counties</th>\n",
       "      <th>urban</th>\n",
       "      <th>rural</th>\n",
       "      <th>urban_percentage</th>\n",
       "    </tr>\n",
       "  </thead>\n",
       "  <tbody>\n",
       "    <tr>\n",
       "      <th>0</th>\n",
       "      <td>adequate</td>\n",
       "      <td>14</td>\n",
       "      <td>9</td>\n",
       "      <td>5</td>\n",
       "      <td>0.642857</td>\n",
       "    </tr>\n",
       "    <tr>\n",
       "      <th>1</th>\n",
       "      <td>moderately_inadequate</td>\n",
       "      <td>50</td>\n",
       "      <td>19</td>\n",
       "      <td>31</td>\n",
       "      <td>0.380000</td>\n",
       "    </tr>\n",
       "    <tr>\n",
       "      <th>2</th>\n",
       "      <td>low_inadequate</td>\n",
       "      <td>31</td>\n",
       "      <td>10</td>\n",
       "      <td>21</td>\n",
       "      <td>0.322581</td>\n",
       "    </tr>\n",
       "  </tbody>\n",
       "</table>\n",
       "</div>"
      ],
      "text/plain": [
       "           health_access  counties  urban  rural  urban_percentage\n",
       "0               adequate        14      9      5          0.642857\n",
       "1  moderately_inadequate        50     19     31          0.380000\n",
       "2         low_inadequate        31     10     21          0.322581"
      ]
     },
     "execution_count": 23,
     "metadata": {},
     "output_type": "execute_result"
    }
   ],
   "source": [
    "tn_health_access"
   ]
  },
  {
   "cell_type": "code",
   "execution_count": 24,
   "id": "c61e7a7a",
   "metadata": {},
   "outputs": [
    {
     "data": {
      "text/plain": [
       "5"
      ]
     },
     "execution_count": 24,
     "metadata": {},
     "output_type": "execute_result"
    }
   ],
   "source": [
    "#alternative\n",
    "physicians.loc[(physicians['health_access'] == 'adequate') &\n",
    "                                                ~(physicians['urban'] == 'Urban')]['urban'].count()"
   ]
  },
  {
   "cell_type": "code",
   "execution_count": 25,
   "id": "8a8ffe05",
   "metadata": {},
   "outputs": [
    {
     "data": {
      "text/plain": [
       "9     0.333333\n",
       "19    0.333333\n",
       "10    0.333333\n",
       "Name: urban, dtype: float64"
      ]
     },
     "execution_count": 25,
     "metadata": {},
     "output_type": "execute_result"
    }
   ],
   "source": [
    "#alternative_2\n",
    "tn_health_access['urban'].value_counts(normalize = True)"
   ]
  },
  {
   "cell_type": "markdown",
   "id": "5253a97e",
   "metadata": {},
   "source": [
    "## Week 3"
   ]
  },
  {
   "cell_type": "markdown",
   "id": "64162a69",
   "metadata": {},
   "source": [
    "##### 1. First, (if you haven't done so already), create a new column indicating the SHADAC classification for each Tennessee county. You can use the following code to accomplish this:\n",
    "```\n",
    "physicians.loc[physicians['residents_per_pcp'] < 1500, 'shadac_category'] = 'adequate'\n",
    "physicians.loc[(physicians['residents_per_pcp'] >= 1500) & \n",
    "          (physicians['residents_per_pcp'] < 3500), 'shadac_category'] = 'moderately inadequate'\n",
    "physicians.loc[(physicians['residents_per_pcp'] >= 3500), 'shadac_category'] = 'low inadequate'\n",
    "```"
   ]
  },
  {
   "cell_type": "code",
   "execution_count": 29,
   "id": "74ee56fc",
   "metadata": {},
   "outputs": [
    {
     "data": {
      "text/html": [
       "<div>\n",
       "<style scoped>\n",
       "    .dataframe tbody tr th:only-of-type {\n",
       "        vertical-align: middle;\n",
       "    }\n",
       "\n",
       "    .dataframe tbody tr th {\n",
       "        vertical-align: top;\n",
       "    }\n",
       "\n",
       "    .dataframe thead th {\n",
       "        text-align: right;\n",
       "    }\n",
       "</style>\n",
       "<table border=\"1\" class=\"dataframe\">\n",
       "  <thead>\n",
       "    <tr style=\"text-align: right;\">\n",
       "      <th></th>\n",
       "      <th>FIPS</th>\n",
       "      <th>state</th>\n",
       "      <th>county</th>\n",
       "      <th>primary_care_physicians</th>\n",
       "      <th>population</th>\n",
       "      <th>urban</th>\n",
       "      <th>res_per_pcp</th>\n",
       "      <th>health_access</th>\n",
       "    </tr>\n",
       "  </thead>\n",
       "  <tbody>\n",
       "    <tr>\n",
       "      <th>0</th>\n",
       "      <td>47001</td>\n",
       "      <td>Tennessee</td>\n",
       "      <td>Anderson</td>\n",
       "      <td>39.0</td>\n",
       "      <td>76061</td>\n",
       "      <td>Urban</td>\n",
       "      <td>1950.282051</td>\n",
       "      <td>moderately_inadequate</td>\n",
       "    </tr>\n",
       "    <tr>\n",
       "      <th>1</th>\n",
       "      <td>47003</td>\n",
       "      <td>Tennessee</td>\n",
       "      <td>Bedford</td>\n",
       "      <td>15.0</td>\n",
       "      <td>48292</td>\n",
       "      <td>Rural</td>\n",
       "      <td>3219.466667</td>\n",
       "      <td>moderately_inadequate</td>\n",
       "    </tr>\n",
       "    <tr>\n",
       "      <th>2</th>\n",
       "      <td>47005</td>\n",
       "      <td>Tennessee</td>\n",
       "      <td>Benton</td>\n",
       "      <td>3.0</td>\n",
       "      <td>16140</td>\n",
       "      <td>Rural</td>\n",
       "      <td>5380.000000</td>\n",
       "      <td>low_inadequate</td>\n",
       "    </tr>\n",
       "    <tr>\n",
       "      <th>3</th>\n",
       "      <td>47007</td>\n",
       "      <td>Tennessee</td>\n",
       "      <td>Bledsoe</td>\n",
       "      <td>1.0</td>\n",
       "      <td>14836</td>\n",
       "      <td>Rural</td>\n",
       "      <td>14836.000000</td>\n",
       "      <td>low_inadequate</td>\n",
       "    </tr>\n",
       "    <tr>\n",
       "      <th>4</th>\n",
       "      <td>47009</td>\n",
       "      <td>Tennessee</td>\n",
       "      <td>Blount</td>\n",
       "      <td>90.0</td>\n",
       "      <td>129927</td>\n",
       "      <td>Urban</td>\n",
       "      <td>1443.633333</td>\n",
       "      <td>adequate</td>\n",
       "    </tr>\n",
       "  </tbody>\n",
       "</table>\n",
       "</div>"
      ],
      "text/plain": [
       "    FIPS      state    county  primary_care_physicians  population  urban  \\\n",
       "0  47001  Tennessee  Anderson                     39.0       76061  Urban   \n",
       "1  47003  Tennessee   Bedford                     15.0       48292  Rural   \n",
       "2  47005  Tennessee    Benton                      3.0       16140  Rural   \n",
       "3  47007  Tennessee   Bledsoe                      1.0       14836  Rural   \n",
       "4  47009  Tennessee    Blount                     90.0      129927  Urban   \n",
       "\n",
       "    res_per_pcp          health_access  \n",
       "0   1950.282051  moderately_inadequate  \n",
       "1   3219.466667  moderately_inadequate  \n",
       "2   5380.000000         low_inadequate  \n",
       "3  14836.000000         low_inadequate  \n",
       "4   1443.633333               adequate  "
      ]
     },
     "execution_count": 29,
     "metadata": {},
     "output_type": "execute_result"
    }
   ],
   "source": [
    "physicians.head()"
   ]
  },
  {
   "cell_type": "markdown",
   "id": "f8491b15",
   "metadata": {},
   "source": [
    "Need to rename 'health_access' to 'shadac_category'"
   ]
  },
  {
   "cell_type": "code",
   "execution_count": 30,
   "id": "e95b419f",
   "metadata": {},
   "outputs": [],
   "source": [
    "physicians.rename(columns={'health_access': 'shadac_category'}, inplace=True)"
   ]
  },
  {
   "cell_type": "code",
   "execution_count": 31,
   "id": "b4f6ae64",
   "metadata": {},
   "outputs": [
    {
     "data": {
      "text/html": [
       "<div>\n",
       "<style scoped>\n",
       "    .dataframe tbody tr th:only-of-type {\n",
       "        vertical-align: middle;\n",
       "    }\n",
       "\n",
       "    .dataframe tbody tr th {\n",
       "        vertical-align: top;\n",
       "    }\n",
       "\n",
       "    .dataframe thead th {\n",
       "        text-align: right;\n",
       "    }\n",
       "</style>\n",
       "<table border=\"1\" class=\"dataframe\">\n",
       "  <thead>\n",
       "    <tr style=\"text-align: right;\">\n",
       "      <th></th>\n",
       "      <th>FIPS</th>\n",
       "      <th>state</th>\n",
       "      <th>county</th>\n",
       "      <th>primary_care_physicians</th>\n",
       "      <th>population</th>\n",
       "      <th>urban</th>\n",
       "      <th>res_per_pcp</th>\n",
       "      <th>shadac_category</th>\n",
       "    </tr>\n",
       "  </thead>\n",
       "  <tbody>\n",
       "    <tr>\n",
       "      <th>0</th>\n",
       "      <td>47001</td>\n",
       "      <td>Tennessee</td>\n",
       "      <td>Anderson</td>\n",
       "      <td>39.0</td>\n",
       "      <td>76061</td>\n",
       "      <td>Urban</td>\n",
       "      <td>1950.282051</td>\n",
       "      <td>moderately_inadequate</td>\n",
       "    </tr>\n",
       "    <tr>\n",
       "      <th>1</th>\n",
       "      <td>47003</td>\n",
       "      <td>Tennessee</td>\n",
       "      <td>Bedford</td>\n",
       "      <td>15.0</td>\n",
       "      <td>48292</td>\n",
       "      <td>Rural</td>\n",
       "      <td>3219.466667</td>\n",
       "      <td>moderately_inadequate</td>\n",
       "    </tr>\n",
       "    <tr>\n",
       "      <th>2</th>\n",
       "      <td>47005</td>\n",
       "      <td>Tennessee</td>\n",
       "      <td>Benton</td>\n",
       "      <td>3.0</td>\n",
       "      <td>16140</td>\n",
       "      <td>Rural</td>\n",
       "      <td>5380.000000</td>\n",
       "      <td>low_inadequate</td>\n",
       "    </tr>\n",
       "    <tr>\n",
       "      <th>3</th>\n",
       "      <td>47007</td>\n",
       "      <td>Tennessee</td>\n",
       "      <td>Bledsoe</td>\n",
       "      <td>1.0</td>\n",
       "      <td>14836</td>\n",
       "      <td>Rural</td>\n",
       "      <td>14836.000000</td>\n",
       "      <td>low_inadequate</td>\n",
       "    </tr>\n",
       "    <tr>\n",
       "      <th>4</th>\n",
       "      <td>47009</td>\n",
       "      <td>Tennessee</td>\n",
       "      <td>Blount</td>\n",
       "      <td>90.0</td>\n",
       "      <td>129927</td>\n",
       "      <td>Urban</td>\n",
       "      <td>1443.633333</td>\n",
       "      <td>adequate</td>\n",
       "    </tr>\n",
       "  </tbody>\n",
       "</table>\n",
       "</div>"
      ],
      "text/plain": [
       "    FIPS      state    county  primary_care_physicians  population  urban  \\\n",
       "0  47001  Tennessee  Anderson                     39.0       76061  Urban   \n",
       "1  47003  Tennessee   Bedford                     15.0       48292  Rural   \n",
       "2  47005  Tennessee    Benton                      3.0       16140  Rural   \n",
       "3  47007  Tennessee   Bledsoe                      1.0       14836  Rural   \n",
       "4  47009  Tennessee    Blount                     90.0      129927  Urban   \n",
       "\n",
       "    res_per_pcp        shadac_category  \n",
       "0   1950.282051  moderately_inadequate  \n",
       "1   3219.466667  moderately_inadequate  \n",
       "2   5380.000000         low_inadequate  \n",
       "3  14836.000000         low_inadequate  \n",
       "4   1443.633333               adequate  "
      ]
     },
     "execution_count": 31,
     "metadata": {},
     "output_type": "execute_result"
    }
   ],
   "source": [
    "physicians.head()"
   ]
  },
  {
   "cell_type": "markdown",
   "id": "8b8c168d",
   "metadata": {},
   "source": [
    "##### 2. Use this new column to investigate if there is any relationship between a county's status as urban or rural and its SHADAC classification. Create a plot showing what you find."
   ]
  },
  {
   "cell_type": "code",
   "execution_count": 42,
   "id": "2a0b37ea",
   "metadata": {},
   "outputs": [
    {
     "data": {
      "image/png": "[encoded data removed]",
      "text/plain": [
       "<Figure size 460.8x403.2 with 1 Axes>"
      ]
     },
     "metadata": {},
     "output_type": "display_data"
    }
   ],
   "source": [
    "(pd.crosstab(physicians['shadac_category'], physicians['urban'],  normalize = 'index') * 100).plot(kind = 'bar', \n",
    "                                                                                        stacked = True,\n",
    "                                                                                        color = ['cornflowerblue', 'coral', 'pink'],\n",
    "                                                                                        edgecolor = 'black',\n",
    "                                                                                        width = 0.75,\n",
    "                                                                                       )\n",
    "plt.title('Percentage of SHADAC Categories by Urban-Rural Classification')\n",
    "plt.xticks(rotation = 0)\n",
    "plt.legend(bbox_to_anchor = (1, 0.8), loc = 'upper left');   # move the legend to the right side of the plot"
   ]
  },
  {
   "cell_type": "markdown",
   "id": "3c8aa4cd",
   "metadata": {},
   "source": [
    "##### 3. Merge the unemployment data (contained in tn_unemployment.csv) into the physicians DataFrame."
   ]
  },
  {
   "cell_type": "code",
   "execution_count": 43,
   "id": "6a141d3a",
   "metadata": {},
   "outputs": [],
   "source": [
    "unemployment = pd.read_csv('../data/tn_unemployment.csv')"
   ]
  },
  {
   "cell_type": "code",
   "execution_count": 48,
   "id": "12dbacff",
   "metadata": {},
   "outputs": [
    {
     "data": {
      "text/html": [
       "<div>\n",
       "<style scoped>\n",
       "    .dataframe tbody tr th:only-of-type {\n",
       "        vertical-align: middle;\n",
       "    }\n",
       "\n",
       "    .dataframe tbody tr th {\n",
       "        vertical-align: top;\n",
       "    }\n",
       "\n",
       "    .dataframe thead th {\n",
       "        text-align: right;\n",
       "    }\n",
       "</style>\n",
       "<table border=\"1\" class=\"dataframe\">\n",
       "  <thead>\n",
       "    <tr style=\"text-align: right;\">\n",
       "      <th></th>\n",
       "      <th>laus_code</th>\n",
       "      <th>State</th>\n",
       "      <th>County</th>\n",
       "      <th>Name</th>\n",
       "      <th>Period</th>\n",
       "      <th>LF</th>\n",
       "      <th>Employed</th>\n",
       "      <th>Unemployed</th>\n",
       "      <th>unemployment_rate</th>\n",
       "    </tr>\n",
       "  </thead>\n",
       "  <tbody>\n",
       "    <tr>\n",
       "      <th>0</th>\n",
       "      <td>CN4700100000000</td>\n",
       "      <td>47</td>\n",
       "      <td>1</td>\n",
       "      <td>Anderson County, TN</td>\n",
       "      <td>Mar-21</td>\n",
       "      <td>34704</td>\n",
       "      <td>33010</td>\n",
       "      <td>1694</td>\n",
       "      <td>4.9</td>\n",
       "    </tr>\n",
       "    <tr>\n",
       "      <th>1</th>\n",
       "      <td>CN4700300000000</td>\n",
       "      <td>47</td>\n",
       "      <td>3</td>\n",
       "      <td>Bedford County, TN</td>\n",
       "      <td>Mar-21</td>\n",
       "      <td>20623</td>\n",
       "      <td>19550</td>\n",
       "      <td>1073</td>\n",
       "      <td>5.2</td>\n",
       "    </tr>\n",
       "    <tr>\n",
       "      <th>2</th>\n",
       "      <td>CN4700500000000</td>\n",
       "      <td>47</td>\n",
       "      <td>5</td>\n",
       "      <td>Benton County, TN</td>\n",
       "      <td>Mar-21</td>\n",
       "      <td>6723</td>\n",
       "      <td>6305</td>\n",
       "      <td>418</td>\n",
       "      <td>6.2</td>\n",
       "    </tr>\n",
       "    <tr>\n",
       "      <th>3</th>\n",
       "      <td>CN4700700000000</td>\n",
       "      <td>47</td>\n",
       "      <td>7</td>\n",
       "      <td>Bledsoe County, TN</td>\n",
       "      <td>Mar-21</td>\n",
       "      <td>4252</td>\n",
       "      <td>3947</td>\n",
       "      <td>305</td>\n",
       "      <td>7.2</td>\n",
       "    </tr>\n",
       "    <tr>\n",
       "      <th>4</th>\n",
       "      <td>CN4700900000000</td>\n",
       "      <td>47</td>\n",
       "      <td>9</td>\n",
       "      <td>Blount County, TN</td>\n",
       "      <td>Mar-21</td>\n",
       "      <td>64098</td>\n",
       "      <td>61119</td>\n",
       "      <td>2979</td>\n",
       "      <td>4.6</td>\n",
       "    </tr>\n",
       "  </tbody>\n",
       "</table>\n",
       "</div>"
      ],
      "text/plain": [
       "         laus_code  State  County                 Name  Period     LF  \\\n",
       "0  CN4700100000000     47       1  Anderson County, TN  Mar-21  34704   \n",
       "1  CN4700300000000     47       3   Bedford County, TN  Mar-21  20623   \n",
       "2  CN4700500000000     47       5    Benton County, TN  Mar-21   6723   \n",
       "3  CN4700700000000     47       7   Bledsoe County, TN  Mar-21   4252   \n",
       "4  CN4700900000000     47       9    Blount County, TN  Mar-21  64098   \n",
       "\n",
       "   Employed  Unemployed  unemployment_rate  \n",
       "0     33010        1694                4.9  \n",
       "1     19550        1073                5.2  \n",
       "2      6305         418                6.2  \n",
       "3      3947         305                7.2  \n",
       "4     61119        2979                4.6  "
      ]
     },
     "execution_count": 48,
     "metadata": {},
     "output_type": "execute_result"
    }
   ],
   "source": [
    "unemployment.head()"
   ]
  },
  {
   "cell_type": "code",
   "execution_count": 64,
   "id": "378c7201",
   "metadata": {},
   "outputs": [],
   "source": [
    "unemployment['FIPS'] = unemployment['laus_code'].str.slice(start=2, stop=7).astype(int)\n",
    "\n"
   ]
  },
  {
   "cell_type": "code",
   "execution_count": 65,
   "id": "501e6d3a",
   "metadata": {},
   "outputs": [
    {
     "data": {
      "text/html": [
       "<div>\n",
       "<style scoped>\n",
       "    .dataframe tbody tr th:only-of-type {\n",
       "        vertical-align: middle;\n",
       "    }\n",
       "\n",
       "    .dataframe tbody tr th {\n",
       "        vertical-align: top;\n",
       "    }\n",
       "\n",
       "    .dataframe thead th {\n",
       "        text-align: right;\n",
       "    }\n",
       "</style>\n",
       "<table border=\"1\" class=\"dataframe\">\n",
       "  <thead>\n",
       "    <tr style=\"text-align: right;\">\n",
       "      <th></th>\n",
       "      <th>laus_code</th>\n",
       "      <th>State</th>\n",
       "      <th>County</th>\n",
       "      <th>Name</th>\n",
       "      <th>Period</th>\n",
       "      <th>LF</th>\n",
       "      <th>Employed</th>\n",
       "      <th>Unemployed</th>\n",
       "      <th>unemployment_rate</th>\n",
       "      <th>FIPS</th>\n",
       "    </tr>\n",
       "  </thead>\n",
       "  <tbody>\n",
       "    <tr>\n",
       "      <th>0</th>\n",
       "      <td>CN4700100000000</td>\n",
       "      <td>47</td>\n",
       "      <td>1</td>\n",
       "      <td>Anderson County, TN</td>\n",
       "      <td>Mar-21</td>\n",
       "      <td>34704</td>\n",
       "      <td>33010</td>\n",
       "      <td>1694</td>\n",
       "      <td>4.9</td>\n",
       "      <td>47001</td>\n",
       "    </tr>\n",
       "    <tr>\n",
       "      <th>1</th>\n",
       "      <td>CN4700300000000</td>\n",
       "      <td>47</td>\n",
       "      <td>3</td>\n",
       "      <td>Bedford County, TN</td>\n",
       "      <td>Mar-21</td>\n",
       "      <td>20623</td>\n",
       "      <td>19550</td>\n",
       "      <td>1073</td>\n",
       "      <td>5.2</td>\n",
       "      <td>47003</td>\n",
       "    </tr>\n",
       "    <tr>\n",
       "      <th>2</th>\n",
       "      <td>CN4700500000000</td>\n",
       "      <td>47</td>\n",
       "      <td>5</td>\n",
       "      <td>Benton County, TN</td>\n",
       "      <td>Mar-21</td>\n",
       "      <td>6723</td>\n",
       "      <td>6305</td>\n",
       "      <td>418</td>\n",
       "      <td>6.2</td>\n",
       "      <td>47005</td>\n",
       "    </tr>\n",
       "    <tr>\n",
       "      <th>3</th>\n",
       "      <td>CN4700700000000</td>\n",
       "      <td>47</td>\n",
       "      <td>7</td>\n",
       "      <td>Bledsoe County, TN</td>\n",
       "      <td>Mar-21</td>\n",
       "      <td>4252</td>\n",
       "      <td>3947</td>\n",
       "      <td>305</td>\n",
       "      <td>7.2</td>\n",
       "      <td>47007</td>\n",
       "    </tr>\n",
       "    <tr>\n",
       "      <th>4</th>\n",
       "      <td>CN4700900000000</td>\n",
       "      <td>47</td>\n",
       "      <td>9</td>\n",
       "      <td>Blount County, TN</td>\n",
       "      <td>Mar-21</td>\n",
       "      <td>64098</td>\n",
       "      <td>61119</td>\n",
       "      <td>2979</td>\n",
       "      <td>4.6</td>\n",
       "      <td>47009</td>\n",
       "    </tr>\n",
       "  </tbody>\n",
       "</table>\n",
       "</div>"
      ],
      "text/plain": [
       "         laus_code  State  County                 Name  Period     LF  \\\n",
       "0  CN4700100000000     47       1  Anderson County, TN  Mar-21  34704   \n",
       "1  CN4700300000000     47       3   Bedford County, TN  Mar-21  20623   \n",
       "2  CN4700500000000     47       5    Benton County, TN  Mar-21   6723   \n",
       "3  CN4700700000000     47       7   Bledsoe County, TN  Mar-21   4252   \n",
       "4  CN4700900000000     47       9    Blount County, TN  Mar-21  64098   \n",
       "\n",
       "   Employed  Unemployed  unemployment_rate   FIPS  \n",
       "0     33010        1694                4.9  47001  \n",
       "1     19550        1073                5.2  47003  \n",
       "2      6305         418                6.2  47005  \n",
       "3      3947         305                7.2  47007  \n",
       "4     61119        2979                4.6  47009  "
      ]
     },
     "execution_count": 65,
     "metadata": {},
     "output_type": "execute_result"
    }
   ],
   "source": [
    "unemployment.head()"
   ]
  },
  {
   "cell_type": "code",
   "execution_count": 66,
   "id": "bbdf29ae",
   "metadata": {},
   "outputs": [],
   "source": [
    "physicians = pd.merge(left = physicians, \n",
    "                      right = unemployment[['FIPS', 'unemployment_rate']], \n",
    "                      on = 'FIPS')"
   ]
  },
  {
   "cell_type": "code",
   "execution_count": 67,
   "id": "cdf5cebf",
   "metadata": {},
   "outputs": [
    {
     "data": {
      "text/html": [
       "<div>\n",
       "<style scoped>\n",
       "    .dataframe tbody tr th:only-of-type {\n",
       "        vertical-align: middle;\n",
       "    }\n",
       "\n",
       "    .dataframe tbody tr th {\n",
       "        vertical-align: top;\n",
       "    }\n",
       "\n",
       "    .dataframe thead th {\n",
       "        text-align: right;\n",
       "    }\n",
       "</style>\n",
       "<table border=\"1\" class=\"dataframe\">\n",
       "  <thead>\n",
       "    <tr style=\"text-align: right;\">\n",
       "      <th></th>\n",
       "      <th>FIPS</th>\n",
       "      <th>state</th>\n",
       "      <th>county</th>\n",
       "      <th>primary_care_physicians</th>\n",
       "      <th>population</th>\n",
       "      <th>urban</th>\n",
       "      <th>res_per_pcp</th>\n",
       "      <th>shadac_category</th>\n",
       "      <th>unemployment_rate</th>\n",
       "    </tr>\n",
       "  </thead>\n",
       "  <tbody>\n",
       "    <tr>\n",
       "      <th>0</th>\n",
       "      <td>47001</td>\n",
       "      <td>Tennessee</td>\n",
       "      <td>Anderson</td>\n",
       "      <td>39.0</td>\n",
       "      <td>76061</td>\n",
       "      <td>Urban</td>\n",
       "      <td>1950.282051</td>\n",
       "      <td>moderately_inadequate</td>\n",
       "      <td>4.9</td>\n",
       "    </tr>\n",
       "    <tr>\n",
       "      <th>1</th>\n",
       "      <td>47003</td>\n",
       "      <td>Tennessee</td>\n",
       "      <td>Bedford</td>\n",
       "      <td>15.0</td>\n",
       "      <td>48292</td>\n",
       "      <td>Rural</td>\n",
       "      <td>3219.466667</td>\n",
       "      <td>moderately_inadequate</td>\n",
       "      <td>5.2</td>\n",
       "    </tr>\n",
       "    <tr>\n",
       "      <th>2</th>\n",
       "      <td>47005</td>\n",
       "      <td>Tennessee</td>\n",
       "      <td>Benton</td>\n",
       "      <td>3.0</td>\n",
       "      <td>16140</td>\n",
       "      <td>Rural</td>\n",
       "      <td>5380.000000</td>\n",
       "      <td>low_inadequate</td>\n",
       "      <td>6.2</td>\n",
       "    </tr>\n",
       "    <tr>\n",
       "      <th>3</th>\n",
       "      <td>47007</td>\n",
       "      <td>Tennessee</td>\n",
       "      <td>Bledsoe</td>\n",
       "      <td>1.0</td>\n",
       "      <td>14836</td>\n",
       "      <td>Rural</td>\n",
       "      <td>14836.000000</td>\n",
       "      <td>low_inadequate</td>\n",
       "      <td>7.2</td>\n",
       "    </tr>\n",
       "    <tr>\n",
       "      <th>4</th>\n",
       "      <td>47009</td>\n",
       "      <td>Tennessee</td>\n",
       "      <td>Blount</td>\n",
       "      <td>90.0</td>\n",
       "      <td>129927</td>\n",
       "      <td>Urban</td>\n",
       "      <td>1443.633333</td>\n",
       "      <td>adequate</td>\n",
       "      <td>4.6</td>\n",
       "    </tr>\n",
       "  </tbody>\n",
       "</table>\n",
       "</div>"
      ],
      "text/plain": [
       "    FIPS      state    county  primary_care_physicians  population  urban  \\\n",
       "0  47001  Tennessee  Anderson                     39.0       76061  Urban   \n",
       "1  47003  Tennessee   Bedford                     15.0       48292  Rural   \n",
       "2  47005  Tennessee    Benton                      3.0       16140  Rural   \n",
       "3  47007  Tennessee   Bledsoe                      1.0       14836  Rural   \n",
       "4  47009  Tennessee    Blount                     90.0      129927  Urban   \n",
       "\n",
       "    res_per_pcp        shadac_category  unemployment_rate  \n",
       "0   1950.282051  moderately_inadequate                4.9  \n",
       "1   3219.466667  moderately_inadequate                5.2  \n",
       "2   5380.000000         low_inadequate                6.2  \n",
       "3  14836.000000         low_inadequate                7.2  \n",
       "4   1443.633333               adequate                4.6  "
      ]
     },
     "execution_count": 67,
     "metadata": {},
     "output_type": "execute_result"
    }
   ],
   "source": [
    "physicians.head()"
   ]
  },
  {
   "cell_type": "markdown",
   "id": "b021aa91",
   "metadata": {},
   "source": [
    "##### 4. How do unemployment rates compare for urban counties versus rural counties?"
   ]
  },
  {
   "cell_type": "code",
   "execution_count": 68,
   "id": "2aa5f2cf",
   "metadata": {},
   "outputs": [
    {
     "data": {
      "text/html": [
       "<div>\n",
       "<style scoped>\n",
       "    .dataframe tbody tr th:only-of-type {\n",
       "        vertical-align: middle;\n",
       "    }\n",
       "\n",
       "    .dataframe tbody tr th {\n",
       "        vertical-align: top;\n",
       "    }\n",
       "\n",
       "    .dataframe thead th {\n",
       "        text-align: right;\n",
       "    }\n",
       "</style>\n",
       "<table border=\"1\" class=\"dataframe\">\n",
       "  <thead>\n",
       "    <tr style=\"text-align: right;\">\n",
       "      <th></th>\n",
       "      <th>count</th>\n",
       "      <th>mean</th>\n",
       "      <th>std</th>\n",
       "      <th>min</th>\n",
       "      <th>25%</th>\n",
       "      <th>50%</th>\n",
       "      <th>75%</th>\n",
       "      <th>max</th>\n",
       "    </tr>\n",
       "    <tr>\n",
       "      <th>urban</th>\n",
       "      <th></th>\n",
       "      <th></th>\n",
       "      <th></th>\n",
       "      <th></th>\n",
       "      <th></th>\n",
       "      <th></th>\n",
       "      <th></th>\n",
       "      <th></th>\n",
       "    </tr>\n",
       "  </thead>\n",
       "  <tbody>\n",
       "    <tr>\n",
       "      <th>Rural</th>\n",
       "      <td>57.0</td>\n",
       "      <td>5.850877</td>\n",
       "      <td>0.976349</td>\n",
       "      <td>3.7</td>\n",
       "      <td>5.200</td>\n",
       "      <td>5.60</td>\n",
       "      <td>6.500</td>\n",
       "      <td>9.3</td>\n",
       "    </tr>\n",
       "    <tr>\n",
       "      <th>Urban</th>\n",
       "      <td>38.0</td>\n",
       "      <td>4.918421</td>\n",
       "      <td>0.759749</td>\n",
       "      <td>3.3</td>\n",
       "      <td>4.325</td>\n",
       "      <td>4.85</td>\n",
       "      <td>5.375</td>\n",
       "      <td>7.1</td>\n",
       "    </tr>\n",
       "  </tbody>\n",
       "</table>\n",
       "</div>"
      ],
      "text/plain": [
       "       count      mean       std  min    25%   50%    75%  max\n",
       "urban                                                         \n",
       "Rural   57.0  5.850877  0.976349  3.7  5.200  5.60  6.500  9.3\n",
       "Urban   38.0  4.918421  0.759749  3.3  4.325  4.85  5.375  7.1"
      ]
     },
     "execution_count": 68,
     "metadata": {},
     "output_type": "execute_result"
    }
   ],
   "source": [
    "physicians.groupby('urban')['unemployment_rate'].describe()"
   ]
  },
  {
   "cell_type": "code",
   "execution_count": 71,
   "id": "ae995ddf",
   "metadata": {},
   "outputs": [
    {
     "data": {
      "image/png": "[encoded data removed]",
      "text/plain": [
       "<Figure size 720x288 with 1 Axes>"
      ]
     },
     "metadata": {},
     "output_type": "display_data"
    }
   ],
   "source": [
    "plt.figure(figsize = (10,4))\n",
    "\n",
    "sns.boxplot(data = physicians,\n",
    "           x = 'unemployment_rate',\n",
    "           y = 'urban');"
   ]
  },
  {
   "cell_type": "markdown",
   "id": "436e4f6f",
   "metadata": {},
   "source": [
    "##### 5. Create a new column, `pcp_per_100k` which contains the number of primary care physicians per 100,000 residents. Investigate the relationship between this new measure and the unemployment rate per county. What do you find?"
   ]
  },
  {
   "cell_type": "code",
   "execution_count": 77,
   "id": "84e00c34",
   "metadata": {},
   "outputs": [],
   "source": [
    "physicians['pcp_per_100k'] = 100000 / physicians['res_per_pcp']"
   ]
  },
  {
   "cell_type": "code",
   "execution_count": 78,
   "id": "64ba73e4",
   "metadata": {},
   "outputs": [
    {
     "data": {
      "text/html": [
       "<div>\n",
       "<style scoped>\n",
       "    .dataframe tbody tr th:only-of-type {\n",
       "        vertical-align: middle;\n",
       "    }\n",
       "\n",
       "    .dataframe tbody tr th {\n",
       "        vertical-align: top;\n",
       "    }\n",
       "\n",
       "    .dataframe thead th {\n",
       "        text-align: right;\n",
       "    }\n",
       "</style>\n",
       "<table border=\"1\" class=\"dataframe\">\n",
       "  <thead>\n",
       "    <tr style=\"text-align: right;\">\n",
       "      <th></th>\n",
       "      <th>FIPS</th>\n",
       "      <th>state</th>\n",
       "      <th>county</th>\n",
       "      <th>primary_care_physicians</th>\n",
       "      <th>population</th>\n",
       "      <th>urban</th>\n",
       "      <th>res_per_pcp</th>\n",
       "      <th>shadac_category</th>\n",
       "      <th>unemployment_rate</th>\n",
       "      <th>pcp_per_100k</th>\n",
       "    </tr>\n",
       "  </thead>\n",
       "  <tbody>\n",
       "    <tr>\n",
       "      <th>0</th>\n",
       "      <td>47001</td>\n",
       "      <td>Tennessee</td>\n",
       "      <td>Anderson</td>\n",
       "      <td>39.0</td>\n",
       "      <td>76061</td>\n",
       "      <td>Urban</td>\n",
       "      <td>1950.282051</td>\n",
       "      <td>moderately_inadequate</td>\n",
       "      <td>4.9</td>\n",
       "      <td>51.274635</td>\n",
       "    </tr>\n",
       "    <tr>\n",
       "      <th>1</th>\n",
       "      <td>47003</td>\n",
       "      <td>Tennessee</td>\n",
       "      <td>Bedford</td>\n",
       "      <td>15.0</td>\n",
       "      <td>48292</td>\n",
       "      <td>Rural</td>\n",
       "      <td>3219.466667</td>\n",
       "      <td>moderately_inadequate</td>\n",
       "      <td>5.2</td>\n",
       "      <td>31.061045</td>\n",
       "    </tr>\n",
       "    <tr>\n",
       "      <th>2</th>\n",
       "      <td>47005</td>\n",
       "      <td>Tennessee</td>\n",
       "      <td>Benton</td>\n",
       "      <td>3.0</td>\n",
       "      <td>16140</td>\n",
       "      <td>Rural</td>\n",
       "      <td>5380.000000</td>\n",
       "      <td>low_inadequate</td>\n",
       "      <td>6.2</td>\n",
       "      <td>18.587361</td>\n",
       "    </tr>\n",
       "    <tr>\n",
       "      <th>3</th>\n",
       "      <td>47007</td>\n",
       "      <td>Tennessee</td>\n",
       "      <td>Bledsoe</td>\n",
       "      <td>1.0</td>\n",
       "      <td>14836</td>\n",
       "      <td>Rural</td>\n",
       "      <td>14836.000000</td>\n",
       "      <td>low_inadequate</td>\n",
       "      <td>7.2</td>\n",
       "      <td>6.740361</td>\n",
       "    </tr>\n",
       "    <tr>\n",
       "      <th>4</th>\n",
       "      <td>47009</td>\n",
       "      <td>Tennessee</td>\n",
       "      <td>Blount</td>\n",
       "      <td>90.0</td>\n",
       "      <td>129927</td>\n",
       "      <td>Urban</td>\n",
       "      <td>1443.633333</td>\n",
       "      <td>adequate</td>\n",
       "      <td>4.6</td>\n",
       "      <td>69.269667</td>\n",
       "    </tr>\n",
       "  </tbody>\n",
       "</table>\n",
       "</div>"
      ],
      "text/plain": [
       "    FIPS      state    county  primary_care_physicians  population  urban  \\\n",
       "0  47001  Tennessee  Anderson                     39.0       76061  Urban   \n",
       "1  47003  Tennessee   Bedford                     15.0       48292  Rural   \n",
       "2  47005  Tennessee    Benton                      3.0       16140  Rural   \n",
       "3  47007  Tennessee   Bledsoe                      1.0       14836  Rural   \n",
       "4  47009  Tennessee    Blount                     90.0      129927  Urban   \n",
       "\n",
       "    res_per_pcp        shadac_category  unemployment_rate  pcp_per_100k  \n",
       "0   1950.282051  moderately_inadequate                4.9     51.274635  \n",
       "1   3219.466667  moderately_inadequate                5.2     31.061045  \n",
       "2   5380.000000         low_inadequate                6.2     18.587361  \n",
       "3  14836.000000         low_inadequate                7.2      6.740361  \n",
       "4   1443.633333               adequate                4.6     69.269667  "
      ]
     },
     "execution_count": 78,
     "metadata": {},
     "output_type": "execute_result"
    }
   ],
   "source": [
    "physicians.head()"
   ]
  },
  {
   "cell_type": "code",
   "execution_count": 80,
   "id": "914312b6",
   "metadata": {},
   "outputs": [
    {
     "data": {
      "image/png": "[encoded data removed]",
      "text/plain": [
       "<Figure size 720x432 with 1 Axes>"
      ]
     },
     "metadata": {},
     "output_type": "display_data"
    }
   ],
   "source": [
    "plt.figure(figsize = (10,6))\n",
    "\n",
    "sns.scatterplot(data = physicians,\n",
    "               x = 'pcp_per_100k',\n",
    "               y = 'unemployment_rate',\n",
    "               hue = 'urban',\n",
    "               palette = ['cornflowerblue', 'coral']);"
   ]
  },
  {
   "cell_type": "code",
   "execution_count": 81,
   "id": "6008d8a5",
   "metadata": {},
   "outputs": [
    {
     "data": {
      "text/html": [
       "<div>\n",
       "<style scoped>\n",
       "    .dataframe tbody tr th:only-of-type {\n",
       "        vertical-align: middle;\n",
       "    }\n",
       "\n",
       "    .dataframe tbody tr th {\n",
       "        vertical-align: top;\n",
       "    }\n",
       "\n",
       "    .dataframe thead th {\n",
       "        text-align: right;\n",
       "    }\n",
       "</style>\n",
       "<table border=\"1\" class=\"dataframe\">\n",
       "  <thead>\n",
       "    <tr style=\"text-align: right;\">\n",
       "      <th></th>\n",
       "      <th>pcp_per_100k</th>\n",
       "      <th>unemployment_rate</th>\n",
       "    </tr>\n",
       "  </thead>\n",
       "  <tbody>\n",
       "    <tr>\n",
       "      <th>pcp_per_100k</th>\n",
       "      <td>1.000000</td>\n",
       "      <td>-0.335333</td>\n",
       "    </tr>\n",
       "    <tr>\n",
       "      <th>unemployment_rate</th>\n",
       "      <td>-0.335333</td>\n",
       "      <td>1.000000</td>\n",
       "    </tr>\n",
       "  </tbody>\n",
       "</table>\n",
       "</div>"
      ],
      "text/plain": [
       "                   pcp_per_100k  unemployment_rate\n",
       "pcp_per_100k           1.000000          -0.335333\n",
       "unemployment_rate     -0.335333           1.000000"
      ]
     },
     "execution_count": 81,
     "metadata": {},
     "output_type": "execute_result"
    }
   ],
   "source": [
    "physicians[['pcp_per_100k', 'unemployment_rate']].corr()"
   ]
  }
 ],
 "metadata": {
  "kernelspec": {
   "display_name": "Python 3 (ipykernel)",
   "language": "python",
   "name": "python3"
  },
  "language_info": {
   "codemirror_mode": {
    "name": "ipython",
    "version": 3
   },
   "file_extension": ".py",
   "mimetype": "text/x-python",
   "name": "python",
   "nbconvert_exporter": "python",
   "pygments_lexer": "ipython3",
   "version": "3.9.12"
  }
 },
 "nbformat": 4,
 "nbformat_minor": 5
}
