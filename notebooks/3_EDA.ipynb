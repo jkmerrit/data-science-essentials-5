{
 "cells": [
  {
   "cell_type": "markdown",
   "id": "cdeefa19",
   "metadata": {},
   "source": [
    "In this notebook, we will see some tools for doing exploratory data analysis (EDA) on a dataset. \n",
    "\n",
    "We'll be using the [Palmer Penguins](https://allisonhorst.github.io/palmerpenguins/articles/intro.html) dataset, which contains size measurements for three penguin species observed on three islands in the Palmer Archipelago of Antarctica."
   ]
  },
  {
   "cell_type": "code",
   "execution_count": 1,
   "id": "46058b52",
   "metadata": {},
   "outputs": [],
   "source": [
    "import pandas as pd\n",
    "import matplotlib.pyplot as plt\n",
    "import seaborn as sns\n",
    "# import jtplot\n",
    "from jupyterthemes import jtplot\n",
    "jtplot.style('monokai')"
   ]
  },
  {
   "cell_type": "code",
   "execution_count": 2,
   "id": "7651feaa",
   "metadata": {},
   "outputs": [],
   "source": [
    "penguins = pd.read_csv('../data/penguins.csv')"
   ]
  },
  {
   "cell_type": "code",
   "execution_count": 3,
   "id": "f1cd5422",
   "metadata": {},
   "outputs": [
    {
     "data": {
      "text/html": [
       "<div>\n",
       "<style scoped>\n",
       "    .dataframe tbody tr th:only-of-type {\n",
       "        vertical-align: middle;\n",
       "    }\n",
       "\n",
       "    .dataframe tbody tr th {\n",
       "        vertical-align: top;\n",
       "    }\n",
       "\n",
       "    .dataframe thead th {\n",
       "        text-align: right;\n",
       "    }\n",
       "</style>\n",
       "<table border=\"1\" class=\"dataframe\">\n",
       "  <thead>\n",
       "    <tr style=\"text-align: right;\">\n",
       "      <th></th>\n",
       "      <th>species</th>\n",
       "      <th>island</th>\n",
       "      <th>bill_length_mm</th>\n",
       "      <th>bill_depth_mm</th>\n",
       "      <th>flipper_length_mm</th>\n",
       "      <th>body_mass_g</th>\n",
       "      <th>sex</th>\n",
       "      <th>year</th>\n",
       "    </tr>\n",
       "  </thead>\n",
       "  <tbody>\n",
       "    <tr>\n",
       "      <th>0</th>\n",
       "      <td>Adelie</td>\n",
       "      <td>Torgersen</td>\n",
       "      <td>39.1</td>\n",
       "      <td>18.7</td>\n",
       "      <td>181.0</td>\n",
       "      <td>3750.0</td>\n",
       "      <td>male</td>\n",
       "      <td>2007</td>\n",
       "    </tr>\n",
       "    <tr>\n",
       "      <th>1</th>\n",
       "      <td>Adelie</td>\n",
       "      <td>Torgersen</td>\n",
       "      <td>39.5</td>\n",
       "      <td>17.4</td>\n",
       "      <td>186.0</td>\n",
       "      <td>3800.0</td>\n",
       "      <td>female</td>\n",
       "      <td>2007</td>\n",
       "    </tr>\n",
       "    <tr>\n",
       "      <th>2</th>\n",
       "      <td>Adelie</td>\n",
       "      <td>Torgersen</td>\n",
       "      <td>40.3</td>\n",
       "      <td>18.0</td>\n",
       "      <td>195.0</td>\n",
       "      <td>3250.0</td>\n",
       "      <td>female</td>\n",
       "      <td>2007</td>\n",
       "    </tr>\n",
       "    <tr>\n",
       "      <th>3</th>\n",
       "      <td>Adelie</td>\n",
       "      <td>Torgersen</td>\n",
       "      <td>NaN</td>\n",
       "      <td>NaN</td>\n",
       "      <td>NaN</td>\n",
       "      <td>NaN</td>\n",
       "      <td>NaN</td>\n",
       "      <td>2007</td>\n",
       "    </tr>\n",
       "    <tr>\n",
       "      <th>4</th>\n",
       "      <td>Adelie</td>\n",
       "      <td>Torgersen</td>\n",
       "      <td>36.7</td>\n",
       "      <td>19.3</td>\n",
       "      <td>193.0</td>\n",
       "      <td>3450.0</td>\n",
       "      <td>female</td>\n",
       "      <td>2007</td>\n",
       "    </tr>\n",
       "  </tbody>\n",
       "</table>\n",
       "</div>"
      ],
      "text/plain": [
       "  species     island  bill_length_mm  bill_depth_mm  flipper_length_mm  \\\n",
       "0  Adelie  Torgersen            39.1           18.7              181.0   \n",
       "1  Adelie  Torgersen            39.5           17.4              186.0   \n",
       "2  Adelie  Torgersen            40.3           18.0              195.0   \n",
       "3  Adelie  Torgersen             NaN            NaN                NaN   \n",
       "4  Adelie  Torgersen            36.7           19.3              193.0   \n",
       "\n",
       "   body_mass_g     sex  year  \n",
       "0       3750.0    male  2007  \n",
       "1       3800.0  female  2007  \n",
       "2       3250.0  female  2007  \n",
       "3          NaN     NaN  2007  \n",
       "4       3450.0  female  2007  "
      ]
     },
     "execution_count": 3,
     "metadata": {},
     "output_type": "execute_result"
    }
   ],
   "source": [
    "penguins.head()"
   ]
  },
  {
   "cell_type": "markdown",
   "id": "60b9ebbc",
   "metadata": {},
   "source": [
    "**Question: Do you notice anything when you look at the first five rows of data?**"
   ]
  },
  {
   "cell_type": "markdown",
   "id": "01e52a69",
   "metadata": {},
   "source": [
    "Let's look and see how many null values we have."
   ]
  },
  {
   "cell_type": "code",
   "execution_count": 4,
   "id": "74e4ef96",
   "metadata": {},
   "outputs": [
    {
     "name": "stdout",
     "output_type": "stream",
     "text": [
      "<class 'pandas.core.frame.DataFrame'>\n",
      "RangeIndex: 344 entries, 0 to 343\n",
      "Data columns (total 8 columns):\n",
      " #   Column             Non-Null Count  Dtype  \n",
      "---  ------             --------------  -----  \n",
      " 0   species            344 non-null    object \n",
      " 1   island             344 non-null    object \n",
      " 2   bill_length_mm     342 non-null    float64\n",
      " 3   bill_depth_mm      342 non-null    float64\n",
      " 4   flipper_length_mm  342 non-null    float64\n",
      " 5   body_mass_g        342 non-null    float64\n",
      " 6   sex                333 non-null    object \n",
      " 7   year               344 non-null    int64  \n",
      "dtypes: float64(4), int64(1), object(3)\n",
      "memory usage: 21.6+ KB\n"
     ]
    }
   ],
   "source": [
    "penguins.info()"
   ]
  },
  {
   "cell_type": "markdown",
   "id": "f37991cc",
   "metadata": {},
   "source": [
    "Another way to count null values is by using the `.isna()` method."
   ]
  },
  {
   "cell_type": "code",
   "execution_count": 5,
   "id": "5f1bec14",
   "metadata": {},
   "outputs": [
    {
     "data": {
      "text/plain": [
       "species               0\n",
       "island                0\n",
       "bill_length_mm        2\n",
       "bill_depth_mm         2\n",
       "flipper_length_mm     2\n",
       "body_mass_g           2\n",
       "sex                  11\n",
       "year                  0\n",
       "dtype: int64"
      ]
     },
     "execution_count": 5,
     "metadata": {},
     "output_type": "execute_result"
    }
   ],
   "source": [
    "penguins.isna().sum()"
   ]
  },
  {
   "cell_type": "markdown",
   "id": "9a9a69f5",
   "metadata": {},
   "source": [
    "## Categorical Variables\n",
    "\n",
    "**Warm-up Question:** How many penguins are there of each sex?"
   ]
  },
  {
   "cell_type": "code",
   "execution_count": 6,
   "id": "bf8f9574",
   "metadata": {},
   "outputs": [
    {
     "data": {
      "text/plain": [
       "male      168\n",
       "female    165\n",
       "Name: sex, dtype: int64"
      ]
     },
     "execution_count": 6,
     "metadata": {},
     "output_type": "execute_result"
    }
   ],
   "source": [
    "penguins['sex'].value_counts()"
   ]
  },
  {
   "cell_type": "markdown",
   "id": "817409b3",
   "metadata": {},
   "source": [
    "The NaN values do not show up. Place your cursor inside the parantheses for `value_counts` and press Shift+Tab to look for a way to retain the NaN values."
   ]
  },
  {
   "cell_type": "code",
   "execution_count": 7,
   "id": "9a935a8e",
   "metadata": {
    "scrolled": true
   },
   "outputs": [
    {
     "data": {
      "text/plain": [
       "male      168\n",
       "female    165\n",
       "NaN        11\n",
       "Name: sex, dtype: int64"
      ]
     },
     "execution_count": 7,
     "metadata": {},
     "output_type": "execute_result"
    }
   ],
   "source": [
    "penguins['sex'].value_counts(dropna = False)"
   ]
  },
  {
   "cell_type": "markdown",
   "id": "e370982c",
   "metadata": {},
   "source": [
    "Notice also that we can normalize our value counts. For example, to get the percentage by species, we can use this: "
   ]
  },
  {
   "cell_type": "code",
   "execution_count": 8,
   "id": "cc492323",
   "metadata": {},
   "outputs": [
    {
     "data": {
      "text/plain": [
       "male      0.504505\n",
       "female    0.495495\n",
       "Name: sex, dtype: float64"
      ]
     },
     "execution_count": 8,
     "metadata": {},
     "output_type": "execute_result"
    }
   ],
   "source": [
    "penguins['sex'].value_counts(normalize = True)"
   ]
  },
  {
   "cell_type": "markdown",
   "id": "ca4b101f",
   "metadata": {},
   "source": [
    "If we want to create a plot showing the number of penguins per species, we can do so using the `.plot` method. We need to specify that we want to create a bar chart."
   ]
  },
  {
   "cell_type": "code",
   "execution_count": 9,
   "id": "a8b5e913",
   "metadata": {},
   "outputs": [
    {
     "data": {
      "image/png": "[encoded data removed]",
      "text/plain": [
       "<Figure size 460.8x403.2 with 1 Axes>"
      ]
     },
     "metadata": {},
     "output_type": "display_data"
    }
   ],
   "source": [
    "penguins['species'].value_counts().plot(kind = 'bar');\n"
   ]
  },
  {
   "cell_type": "markdown",
   "id": "b724d66c",
   "metadata": {},
   "source": [
    "The default plot can be improved using a combination of arguments and matplotlib methods."
   ]
  },
  {
   "cell_type": "code",
   "execution_count": 10,
   "id": "2eb7ae20",
   "metadata": {},
   "outputs": [
    {
     "data": {
      "image/png": "[encoded data removed]",
      "text/plain": [
       "<Figure size 720x432 with 1 Axes>"
      ]
     },
     "metadata": {},
     "output_type": "display_data"
    }
   ],
   "source": [
    "penguins['species'].value_counts().plot(kind = 'bar',\n",
    "                                        figsize = (10,6))               # Increase the plot size                \n",
    "\n",
    "plt.xticks(rotation = 0,                                                # Remove the rotation of the labels\n",
    "           fontsize = 12)                   \n",
    "plt.title('Number of Penguins by Species',                              # Add a title\n",
    "         fontsize = 14,\n",
    "         fontweight = 'bold');"
   ]
  },
  {
   "cell_type": "markdown",
   "id": "b6b5fc66",
   "metadata": {},
   "source": [
    "## Examining Two Categorical Variables\n",
    "\n",
    "What if we want to look at a cross-tabulation of the number of observations of each sex broken down by species. \n",
    "\n",
    "For this, we can use the `pandas` `crosstab` function. What we need to do is to pass in the two columns we want to create the table based on."
   ]
  },
  {
   "cell_type": "code",
   "execution_count": 11,
   "id": "f7e035eb",
   "metadata": {},
   "outputs": [
    {
     "data": {
      "text/html": [
       "<div>\n",
       "<style scoped>\n",
       "    .dataframe tbody tr th:only-of-type {\n",
       "        vertical-align: middle;\n",
       "    }\n",
       "\n",
       "    .dataframe tbody tr th {\n",
       "        vertical-align: top;\n",
       "    }\n",
       "\n",
       "    .dataframe thead th {\n",
       "        text-align: right;\n",
       "    }\n",
       "</style>\n",
       "<table border=\"1\" class=\"dataframe\">\n",
       "  <thead>\n",
       "    <tr style=\"text-align: right;\">\n",
       "      <th>species</th>\n",
       "      <th>Adelie</th>\n",
       "      <th>Chinstrap</th>\n",
       "      <th>Gentoo</th>\n",
       "    </tr>\n",
       "    <tr>\n",
       "      <th>island</th>\n",
       "      <th></th>\n",
       "      <th></th>\n",
       "      <th></th>\n",
       "    </tr>\n",
       "  </thead>\n",
       "  <tbody>\n",
       "    <tr>\n",
       "      <th>Biscoe</th>\n",
       "      <td>44</td>\n",
       "      <td>0</td>\n",
       "      <td>124</td>\n",
       "    </tr>\n",
       "    <tr>\n",
       "      <th>Dream</th>\n",
       "      <td>56</td>\n",
       "      <td>68</td>\n",
       "      <td>0</td>\n",
       "    </tr>\n",
       "    <tr>\n",
       "      <th>Torgersen</th>\n",
       "      <td>52</td>\n",
       "      <td>0</td>\n",
       "      <td>0</td>\n",
       "    </tr>\n",
       "  </tbody>\n",
       "</table>\n",
       "</div>"
      ],
      "text/plain": [
       "species    Adelie  Chinstrap  Gentoo\n",
       "island                              \n",
       "Biscoe         44          0     124\n",
       "Dream          56         68       0\n",
       "Torgersen      52          0       0"
      ]
     },
     "execution_count": 11,
     "metadata": {},
     "output_type": "execute_result"
    }
   ],
   "source": [
    "pd.crosstab(penguins['island'], penguins['species'])"
   ]
  },
  {
   "cell_type": "markdown",
   "id": "91d53c29",
   "metadata": {},
   "source": [
    "As above, we can take the results and create a plot."
   ]
  },
  {
   "cell_type": "code",
   "execution_count": 12,
   "id": "04050b90",
   "metadata": {},
   "outputs": [
    {
     "data": {
      "image/png": "[encoded data removed]",
      "text/plain": [
       "<Figure size 460.8x403.2 with 1 Axes>"
      ]
     },
     "metadata": {},
     "output_type": "display_data"
    }
   ],
   "source": [
    "pd.crosstab(penguins['island'], penguins['species']).plot(kind = 'bar', \n",
    "                                                          stacked = True,       # stacked as opposed to side-by-side\n",
    "                                                          color = ['cornflowerblue', 'coral', 'pink'],     # change the default colors\n",
    "                                                          edgecolor = 'black')              # add a border to the bars\n",
    "plt.title('Penguin Species Distribution by Island')                   # add a title\n",
    "plt.xticks(rotation = 0);                                             # change the appearance of the x tick labels"
   ]
  },
  {
   "cell_type": "markdown",
   "id": "14ae1445",
   "metadata": {},
   "source": [
    "You can also normalize the cross-tabulation. Since we are working with two variables here, we can normalize in a number of ways. \n",
    "\n",
    "For example, if we just want the proportion of total observations that are contained in each cell, we can use the `normalize = 'all'` option."
   ]
  },
  {
   "cell_type": "code",
   "execution_count": 13,
   "id": "496a7c43",
   "metadata": {},
   "outputs": [
    {
     "data": {
      "text/html": [
       "<div>\n",
       "<style scoped>\n",
       "    .dataframe tbody tr th:only-of-type {\n",
       "        vertical-align: middle;\n",
       "    }\n",
       "\n",
       "    .dataframe tbody tr th {\n",
       "        vertical-align: top;\n",
       "    }\n",
       "\n",
       "    .dataframe thead th {\n",
       "        text-align: right;\n",
       "    }\n",
       "</style>\n",
       "<table border=\"1\" class=\"dataframe\">\n",
       "  <thead>\n",
       "    <tr style=\"text-align: right;\">\n",
       "      <th>species</th>\n",
       "      <th>Adelie</th>\n",
       "      <th>Chinstrap</th>\n",
       "      <th>Gentoo</th>\n",
       "    </tr>\n",
       "    <tr>\n",
       "      <th>island</th>\n",
       "      <th></th>\n",
       "      <th></th>\n",
       "      <th></th>\n",
       "    </tr>\n",
       "  </thead>\n",
       "  <tbody>\n",
       "    <tr>\n",
       "      <th>Biscoe</th>\n",
       "      <td>0.127907</td>\n",
       "      <td>0.000000</td>\n",
       "      <td>0.360465</td>\n",
       "    </tr>\n",
       "    <tr>\n",
       "      <th>Dream</th>\n",
       "      <td>0.162791</td>\n",
       "      <td>0.197674</td>\n",
       "      <td>0.000000</td>\n",
       "    </tr>\n",
       "    <tr>\n",
       "      <th>Torgersen</th>\n",
       "      <td>0.151163</td>\n",
       "      <td>0.000000</td>\n",
       "      <td>0.000000</td>\n",
       "    </tr>\n",
       "  </tbody>\n",
       "</table>\n",
       "</div>"
      ],
      "text/plain": [
       "species      Adelie  Chinstrap    Gentoo\n",
       "island                                  \n",
       "Biscoe     0.127907   0.000000  0.360465\n",
       "Dream      0.162791   0.197674  0.000000\n",
       "Torgersen  0.151163   0.000000  0.000000"
      ]
     },
     "execution_count": 13,
     "metadata": {},
     "output_type": "execute_result"
    }
   ],
   "source": [
    "pd.crosstab(penguins['island'], penguins['species'],  normalize = 'all')"
   ]
  },
  {
   "cell_type": "markdown",
   "id": "5a577f16",
   "metadata": {},
   "source": [
    "Or if we want proportions by row, we can use the `normalize = 'index'` option."
   ]
  },
  {
   "cell_type": "code",
   "execution_count": 14,
   "id": "7fbaae39",
   "metadata": {},
   "outputs": [
    {
     "data": {
      "text/html": [
       "<div>\n",
       "<style scoped>\n",
       "    .dataframe tbody tr th:only-of-type {\n",
       "        vertical-align: middle;\n",
       "    }\n",
       "\n",
       "    .dataframe tbody tr th {\n",
       "        vertical-align: top;\n",
       "    }\n",
       "\n",
       "    .dataframe thead th {\n",
       "        text-align: right;\n",
       "    }\n",
       "</style>\n",
       "<table border=\"1\" class=\"dataframe\">\n",
       "  <thead>\n",
       "    <tr style=\"text-align: right;\">\n",
       "      <th>species</th>\n",
       "      <th>Adelie</th>\n",
       "      <th>Chinstrap</th>\n",
       "      <th>Gentoo</th>\n",
       "    </tr>\n",
       "    <tr>\n",
       "      <th>island</th>\n",
       "      <th></th>\n",
       "      <th></th>\n",
       "      <th></th>\n",
       "    </tr>\n",
       "  </thead>\n",
       "  <tbody>\n",
       "    <tr>\n",
       "      <th>Biscoe</th>\n",
       "      <td>0.261905</td>\n",
       "      <td>0.000000</td>\n",
       "      <td>0.738095</td>\n",
       "    </tr>\n",
       "    <tr>\n",
       "      <th>Dream</th>\n",
       "      <td>0.451613</td>\n",
       "      <td>0.548387</td>\n",
       "      <td>0.000000</td>\n",
       "    </tr>\n",
       "    <tr>\n",
       "      <th>Torgersen</th>\n",
       "      <td>1.000000</td>\n",
       "      <td>0.000000</td>\n",
       "      <td>0.000000</td>\n",
       "    </tr>\n",
       "  </tbody>\n",
       "</table>\n",
       "</div>"
      ],
      "text/plain": [
       "species      Adelie  Chinstrap    Gentoo\n",
       "island                                  \n",
       "Biscoe     0.261905   0.000000  0.738095\n",
       "Dream      0.451613   0.548387  0.000000\n",
       "Torgersen  1.000000   0.000000  0.000000"
      ]
     },
     "execution_count": 14,
     "metadata": {},
     "output_type": "execute_result"
    }
   ],
   "source": [
    "pd.crosstab(penguins['island'], penguins['species'],  normalize = 'index')"
   ]
  },
  {
   "cell_type": "code",
   "execution_count": 15,
   "id": "c5135bb3",
   "metadata": {},
   "outputs": [
    {
     "data": {
      "image/png": "[encoded data removed]",
      "text/plain": [
       "<Figure size 460.8x403.2 with 1 Axes>"
      ]
     },
     "metadata": {},
     "output_type": "display_data"
    }
   ],
   "source": [
    "(pd.crosstab(penguins['island'], penguins['species'],  normalize = 'index') * 100).plot(kind = 'bar', \n",
    "                                                                                        stacked = True,\n",
    "                                                                                        color = ['cornflowerblue', 'coral', 'pink'],\n",
    "                                                                                        edgecolor = 'black',\n",
    "                                                                                        width = 0.75,\n",
    "                                                                                       )\n",
    "plt.title('Percentage of Species by Island')\n",
    "plt.xticks(rotation = 0)\n",
    "plt.legend(bbox_to_anchor = (1, 0.8), loc = 'upper left');   # move the legend to the right side of the plot"
   ]
  },
  {
   "cell_type": "markdown",
   "id": "f8d90c6e",
   "metadata": {},
   "source": [
    "## Numeric Variables\n",
    "\n",
    "Now, let's say that we want to study the `body_mass_g` variable.\n",
    "\n",
    "We can quickly get a quick summary by using the `.describe()` method."
   ]
  },
  {
   "cell_type": "code",
   "execution_count": 16,
   "id": "4f624012",
   "metadata": {},
   "outputs": [
    {
     "data": {
      "text/plain": [
       "count     342.000000\n",
       "mean     4201.754386\n",
       "std       801.954536\n",
       "min      2700.000000\n",
       "25%      3550.000000\n",
       "50%      4050.000000\n",
       "75%      4750.000000\n",
       "max      6300.000000\n",
       "Name: body_mass_g, dtype: float64"
      ]
     },
     "execution_count": 16,
     "metadata": {},
     "output_type": "execute_result"
    }
   ],
   "source": [
    "penguins['body_mass_g'].describe()"
   ]
  },
  {
   "cell_type": "markdown",
   "id": "ed1affdf",
   "metadata": {},
   "source": [
    "We can also calculate individual summary statistics, many of which have built-in _pandas_ methods."
   ]
  },
  {
   "cell_type": "code",
   "execution_count": 17,
   "id": "4654d38b",
   "metadata": {},
   "outputs": [
    {
     "data": {
      "text/plain": [
       "4201.754385964912"
      ]
     },
     "execution_count": 17,
     "metadata": {},
     "output_type": "execute_result"
    }
   ],
   "source": [
    "penguins['body_mass_g'].mean()"
   ]
  },
  {
   "cell_type": "code",
   "execution_count": 18,
   "id": "a0e93e7a",
   "metadata": {},
   "outputs": [
    {
     "data": {
      "text/plain": [
       "4050.0"
      ]
     },
     "execution_count": 18,
     "metadata": {},
     "output_type": "execute_result"
    }
   ],
   "source": [
    "penguins['body_mass_g'].median()"
   ]
  },
  {
   "cell_type": "markdown",
   "id": "3d9bc04d",
   "metadata": {},
   "source": [
    "We have a number of options for inspecting the distribution of a numeric variable. In this notebook, we'll look at histograms and box plots.\n",
    "\n",
    "For histograms, we can use the `.hist()` method from _pandas_."
   ]
  },
  {
   "cell_type": "code",
   "execution_count": 19,
   "id": "17bffcbc",
   "metadata": {},
   "outputs": [
    {
     "data": {
      "image/png": "[encoded data removed]",
      "text/plain": [
       "<Figure size 460.8x403.2 with 1 Axes>"
      ]
     },
     "metadata": {},
     "output_type": "display_data"
    }
   ],
   "source": [
    "penguins['body_mass_g'].hist();"
   ]
  },
  {
   "cell_type": "markdown",
   "id": "82803a1b",
   "metadata": {},
   "source": [
    "As before, we can easily make modifications to this plot."
   ]
  },
  {
   "cell_type": "code",
   "execution_count": 20,
   "id": "bbb39eea",
   "metadata": {},
   "outputs": [
    {
     "data": {
      "image/png": "[encoded data removed]",
      "text/plain": [
       "<Figure size 720x432 with 1 Axes>"
      ]
     },
     "metadata": {},
     "output_type": "display_data"
    }
   ],
   "source": [
    "penguins['body_mass_g'].hist(bins = 25,\n",
    "                            color = 'coral',\n",
    "                            edgecolor = 'black',\n",
    "                            figsize = (10,6))\n",
    "\n",
    "plt.title('Distribution of Body Mass Values', fontsize = 16);"
   ]
  },
  {
   "cell_type": "markdown",
   "id": "48ab6654",
   "metadata": {},
   "source": [
    "The _pandas_ library also includes a boxplot method, but we can get a nicer looking one using the _seaborn_ library."
   ]
  },
  {
   "cell_type": "code",
   "execution_count": 21,
   "id": "2e35b69c",
   "metadata": {},
   "outputs": [
    {
     "data": {
      "image/png": "[encoded data removed]",
      "text/plain": [
       "<Figure size 460.8x403.2 with 1 Axes>"
      ]
     },
     "metadata": {},
     "output_type": "display_data"
    }
   ],
   "source": [
    "sns.boxplot(data = penguins,\n",
    "            x = 'body_mass_g');"
   ]
  },
  {
   "cell_type": "markdown",
   "id": "d6dc08b4",
   "metadata": {},
   "source": [
    "Note that if we want to increase the figure size when using seaborn, we cannot pass it in as an argument but must use either the `.figure()` or `.subplots()` function from matplotlib."
   ]
  },
  {
   "cell_type": "code",
   "execution_count": 22,
   "id": "aa6d4c03",
   "metadata": {},
   "outputs": [
    {
     "data": {
      "image/png": "[encoded data removed]",
      "text/plain": [
       "<Figure size 720x288 with 1 Axes>"
      ]
     },
     "metadata": {},
     "output_type": "display_data"
    }
   ],
   "source": [
    "plt.figure(figsize = (10,4))\n",
    "\n",
    "sns.boxplot(data = penguins,\n",
    "            x = 'body_mass_g');"
   ]
  },
  {
   "cell_type": "markdown",
   "id": "a48797a0",
   "metadata": {},
   "source": [
    "## Categorical-Numeric Combinations\n",
    "\n",
    "The histogram of body mass values is not exactly symmetric and appears to have a number of subgroups. Perhaps this distribution shape could be explained by looking at the body mass distribution by species. Let's say we want to look at the average body mass by species.\n",
    "\n",
    "One way to do this is to use `.groupby`.\n",
    "\n",
    "Quite often when using `.groupby()`, our goal is to calculate an aggregate value by group. To use `.groupby()`, we need to tell pandas: \n",
    "* **what** to group by\n",
    "* **which** column (or columns) we want to aggregate\n",
    "* **how** to aggregate\n",
    "\n",
    "In this case, we want to group by `species` and then aggregate the `body_mass_g` column by taking the _mean_."
   ]
  },
  {
   "cell_type": "code",
   "execution_count": 23,
   "id": "26107701",
   "metadata": {},
   "outputs": [
    {
     "data": {
      "text/plain": [
       "species\n",
       "Adelie       3700.662252\n",
       "Chinstrap    3733.088235\n",
       "Gentoo       5076.016260\n",
       "Name: body_mass_g, dtype: float64"
      ]
     },
     "execution_count": 23,
     "metadata": {},
     "output_type": "execute_result"
    }
   ],
   "source": [
    "penguins.groupby('species')['body_mass_g'].mean()"
   ]
  },
  {
   "cell_type": "markdown",
   "id": "b9f32030",
   "metadata": {},
   "source": [
    "You can even use `.describe` with `groupby` to get even more information by species."
   ]
  },
  {
   "cell_type": "code",
   "execution_count": 24,
   "id": "583b7157",
   "metadata": {},
   "outputs": [
    {
     "data": {
      "text/html": [
       "<div>\n",
       "<style scoped>\n",
       "    .dataframe tbody tr th:only-of-type {\n",
       "        vertical-align: middle;\n",
       "    }\n",
       "\n",
       "    .dataframe tbody tr th {\n",
       "        vertical-align: top;\n",
       "    }\n",
       "\n",
       "    .dataframe thead th {\n",
       "        text-align: right;\n",
       "    }\n",
       "</style>\n",
       "<table border=\"1\" class=\"dataframe\">\n",
       "  <thead>\n",
       "    <tr style=\"text-align: right;\">\n",
       "      <th></th>\n",
       "      <th>count</th>\n",
       "      <th>mean</th>\n",
       "      <th>std</th>\n",
       "      <th>min</th>\n",
       "      <th>25%</th>\n",
       "      <th>50%</th>\n",
       "      <th>75%</th>\n",
       "      <th>max</th>\n",
       "    </tr>\n",
       "    <tr>\n",
       "      <th>species</th>\n",
       "      <th></th>\n",
       "      <th></th>\n",
       "      <th></th>\n",
       "      <th></th>\n",
       "      <th></th>\n",
       "      <th></th>\n",
       "      <th></th>\n",
       "      <th></th>\n",
       "    </tr>\n",
       "  </thead>\n",
       "  <tbody>\n",
       "    <tr>\n",
       "      <th>Adelie</th>\n",
       "      <td>151.0</td>\n",
       "      <td>3700.662252</td>\n",
       "      <td>458.566126</td>\n",
       "      <td>2850.0</td>\n",
       "      <td>3350.0</td>\n",
       "      <td>3700.0</td>\n",
       "      <td>4000.0</td>\n",
       "      <td>4775.0</td>\n",
       "    </tr>\n",
       "    <tr>\n",
       "      <th>Chinstrap</th>\n",
       "      <td>68.0</td>\n",
       "      <td>3733.088235</td>\n",
       "      <td>384.335081</td>\n",
       "      <td>2700.0</td>\n",
       "      <td>3487.5</td>\n",
       "      <td>3700.0</td>\n",
       "      <td>3950.0</td>\n",
       "      <td>4800.0</td>\n",
       "    </tr>\n",
       "    <tr>\n",
       "      <th>Gentoo</th>\n",
       "      <td>123.0</td>\n",
       "      <td>5076.016260</td>\n",
       "      <td>504.116237</td>\n",
       "      <td>3950.0</td>\n",
       "      <td>4700.0</td>\n",
       "      <td>5000.0</td>\n",
       "      <td>5500.0</td>\n",
       "      <td>6300.0</td>\n",
       "    </tr>\n",
       "  </tbody>\n",
       "</table>\n",
       "</div>"
      ],
      "text/plain": [
       "           count         mean         std     min     25%     50%     75%  \\\n",
       "species                                                                     \n",
       "Adelie     151.0  3700.662252  458.566126  2850.0  3350.0  3700.0  4000.0   \n",
       "Chinstrap   68.0  3733.088235  384.335081  2700.0  3487.5  3700.0  3950.0   \n",
       "Gentoo     123.0  5076.016260  504.116237  3950.0  4700.0  5000.0  5500.0   \n",
       "\n",
       "              max  \n",
       "species            \n",
       "Adelie     4775.0  \n",
       "Chinstrap  4800.0  \n",
       "Gentoo     6300.0  "
      ]
     },
     "execution_count": 24,
     "metadata": {},
     "output_type": "execute_result"
    }
   ],
   "source": [
    "penguins.groupby('species')['body_mass_g'].describe()"
   ]
  },
  {
   "cell_type": "markdown",
   "id": "ec15750b",
   "metadata": {},
   "source": [
    "**Question:** Looking at the summary statistics by group, what do you notice?"
   ]
  },
  {
   "cell_type": "markdown",
   "id": "7900ece0",
   "metadata": {},
   "source": [
    "We can easily compare distributions using a grouped boxplot."
   ]
  },
  {
   "cell_type": "code",
   "execution_count": 25,
   "id": "edd18183",
   "metadata": {},
   "outputs": [
    {
     "data": {
      "image/png": "[encoded data removed]",
      "text/plain": [
       "<Figure size 720x432 with 1 Axes>"
      ]
     },
     "metadata": {},
     "output_type": "display_data"
    }
   ],
   "source": [
    "plt.figure(figsize = (10,6))\n",
    "\n",
    "sns.boxplot(data = penguins,\n",
    "           x = 'body_mass_g',\n",
    "           y = 'species');"
   ]
  },
  {
   "cell_type": "markdown",
   "id": "98bdb6a7",
   "metadata": {},
   "source": [
    "## Comparing Two Numeric Variables\n",
    "\n",
    "One way to assess the relationship between two numeric variables is to find the correlation. This can be accomplished using the `.corr()` method, which returns the correlation matrix."
   ]
  },
  {
   "cell_type": "code",
   "execution_count": 26,
   "id": "436ae46b",
   "metadata": {},
   "outputs": [
    {
     "data": {
      "text/html": [
       "<div>\n",
       "<style scoped>\n",
       "    .dataframe tbody tr th:only-of-type {\n",
       "        vertical-align: middle;\n",
       "    }\n",
       "\n",
       "    .dataframe tbody tr th {\n",
       "        vertical-align: top;\n",
       "    }\n",
       "\n",
       "    .dataframe thead th {\n",
       "        text-align: right;\n",
       "    }\n",
       "</style>\n",
       "<table border=\"1\" class=\"dataframe\">\n",
       "  <thead>\n",
       "    <tr style=\"text-align: right;\">\n",
       "      <th></th>\n",
       "      <th>bill_length_mm</th>\n",
       "      <th>bill_depth_mm</th>\n",
       "      <th>flipper_length_mm</th>\n",
       "      <th>body_mass_g</th>\n",
       "    </tr>\n",
       "  </thead>\n",
       "  <tbody>\n",
       "    <tr>\n",
       "      <th>bill_length_mm</th>\n",
       "      <td>1.000000</td>\n",
       "      <td>-0.235053</td>\n",
       "      <td>0.656181</td>\n",
       "      <td>0.595110</td>\n",
       "    </tr>\n",
       "    <tr>\n",
       "      <th>bill_depth_mm</th>\n",
       "      <td>-0.235053</td>\n",
       "      <td>1.000000</td>\n",
       "      <td>-0.583851</td>\n",
       "      <td>-0.471916</td>\n",
       "    </tr>\n",
       "    <tr>\n",
       "      <th>flipper_length_mm</th>\n",
       "      <td>0.656181</td>\n",
       "      <td>-0.583851</td>\n",
       "      <td>1.000000</td>\n",
       "      <td>0.871202</td>\n",
       "    </tr>\n",
       "    <tr>\n",
       "      <th>body_mass_g</th>\n",
       "      <td>0.595110</td>\n",
       "      <td>-0.471916</td>\n",
       "      <td>0.871202</td>\n",
       "      <td>1.000000</td>\n",
       "    </tr>\n",
       "  </tbody>\n",
       "</table>\n",
       "</div>"
      ],
      "text/plain": [
       "                   bill_length_mm  bill_depth_mm  flipper_length_mm  \\\n",
       "bill_length_mm           1.000000      -0.235053           0.656181   \n",
       "bill_depth_mm           -0.235053       1.000000          -0.583851   \n",
       "flipper_length_mm        0.656181      -0.583851           1.000000   \n",
       "body_mass_g              0.595110      -0.471916           0.871202   \n",
       "\n",
       "                   body_mass_g  \n",
       "bill_length_mm        0.595110  \n",
       "bill_depth_mm        -0.471916  \n",
       "flipper_length_mm     0.871202  \n",
       "body_mass_g           1.000000  "
      ]
     },
     "execution_count": 26,
     "metadata": {},
     "output_type": "execute_result"
    }
   ],
   "source": [
    "penguins[['bill_length_mm', 'bill_depth_mm', 'flipper_length_mm', 'body_mass_g']].corr()"
   ]
  },
  {
   "cell_type": "markdown",
   "id": "5faa2648",
   "metadata": {},
   "source": [
    "**Question:** Do you notice anything interesting when inspecting the correlation values?"
   ]
  },
  {
   "cell_type": "markdown",
   "id": "c1c2129b",
   "metadata": {},
   "source": [
    "Let's investigate the relationship between bill length and bill depth. We can do this using a scatterplot.\n",
    "\n",
    "First, let's use the `.plot` method from pandas."
   ]
  },
  {
   "cell_type": "code",
   "execution_count": 27,
   "id": "7d3bc731",
   "metadata": {},
   "outputs": [
    {
     "data": {
      "image/png": "[encoded data removed]",
      "text/plain": [
       "<Figure size 720x432 with 1 Axes>"
      ]
     },
     "metadata": {},
     "output_type": "display_data"
    }
   ],
   "source": [
    "penguins.plot(kind = 'scatter',\n",
    "             x = 'bill_length_mm',\n",
    "             y = 'bill_depth_mm',\n",
    "             figsize = (10,6));"
   ]
  },
  {
   "cell_type": "markdown",
   "id": "d5eb535a",
   "metadata": {},
   "source": [
    "We do need to remember that we have multiple species of penguins. To get a better understanding of the relationship between these variables, we could color the points by species. The easiest way to do this is using the _seaborn_ library."
   ]
  },
  {
   "cell_type": "code",
   "execution_count": 28,
   "id": "f2cc40d0",
   "metadata": {},
   "outputs": [
    {
     "data": {
      "image/png": "[encoded data removed]",
      "text/plain": [
       "<Figure size 720x432 with 1 Axes>"
      ]
     },
     "metadata": {},
     "output_type": "display_data"
    }
   ],
   "source": [
    "plt.figure(figsize = (10,6))\n",
    "\n",
    "sns.scatterplot(data = penguins,\n",
    "               x = 'bill_length_mm',\n",
    "               y = 'bill_depth_mm',\n",
    "               hue = 'species',\n",
    "               palette = ['cornflowerblue', 'coral', 'pink']);"
   ]
  },
  {
   "cell_type": "markdown",
   "id": "a6acaab0",
   "metadata": {},
   "source": [
    "**Question:** What is the correlation between bill length and bill depth if we just look at the Gentoo species?"
   ]
  },
  {
   "cell_type": "code",
   "execution_count": 29,
   "id": "f8ca4bd8",
   "metadata": {},
   "outputs": [
    {
     "data": {
      "text/html": [
       "<div>\n",
       "<style scoped>\n",
       "    .dataframe tbody tr th:only-of-type {\n",
       "        vertical-align: middle;\n",
       "    }\n",
       "\n",
       "    .dataframe tbody tr th {\n",
       "        vertical-align: top;\n",
       "    }\n",
       "\n",
       "    .dataframe thead th {\n",
       "        text-align: right;\n",
       "    }\n",
       "</style>\n",
       "<table border=\"1\" class=\"dataframe\">\n",
       "  <thead>\n",
       "    <tr style=\"text-align: right;\">\n",
       "      <th></th>\n",
       "      <th>bill_length_mm</th>\n",
       "      <th>bill_depth_mm</th>\n",
       "      <th>flipper_length_mm</th>\n",
       "      <th>body_mass_g</th>\n",
       "      <th>year</th>\n",
       "    </tr>\n",
       "  </thead>\n",
       "  <tbody>\n",
       "    <tr>\n",
       "      <th>bill_length_mm</th>\n",
       "      <td>1.000000</td>\n",
       "      <td>0.643384</td>\n",
       "      <td>0.661162</td>\n",
       "      <td>0.669166</td>\n",
       "      <td>0.199905</td>\n",
       "    </tr>\n",
       "    <tr>\n",
       "      <th>bill_depth_mm</th>\n",
       "      <td>0.643384</td>\n",
       "      <td>1.000000</td>\n",
       "      <td>0.706563</td>\n",
       "      <td>0.719085</td>\n",
       "      <td>0.239305</td>\n",
       "    </tr>\n",
       "    <tr>\n",
       "      <th>flipper_length_mm</th>\n",
       "      <td>0.661162</td>\n",
       "      <td>0.706563</td>\n",
       "      <td>1.000000</td>\n",
       "      <td>0.702667</td>\n",
       "      <td>0.197040</td>\n",
       "    </tr>\n",
       "    <tr>\n",
       "      <th>body_mass_g</th>\n",
       "      <td>0.669166</td>\n",
       "      <td>0.719085</td>\n",
       "      <td>0.702667</td>\n",
       "      <td>1.000000</td>\n",
       "      <td>0.060962</td>\n",
       "    </tr>\n",
       "    <tr>\n",
       "      <th>year</th>\n",
       "      <td>0.199905</td>\n",
       "      <td>0.239305</td>\n",
       "      <td>0.197040</td>\n",
       "      <td>0.060962</td>\n",
       "      <td>1.000000</td>\n",
       "    </tr>\n",
       "  </tbody>\n",
       "</table>\n",
       "</div>"
      ],
      "text/plain": [
       "                   bill_length_mm  bill_depth_mm  flipper_length_mm  \\\n",
       "bill_length_mm           1.000000       0.643384           0.661162   \n",
       "bill_depth_mm            0.643384       1.000000           0.706563   \n",
       "flipper_length_mm        0.661162       0.706563           1.000000   \n",
       "body_mass_g              0.669166       0.719085           0.702667   \n",
       "year                     0.199905       0.239305           0.197040   \n",
       "\n",
       "                   body_mass_g      year  \n",
       "bill_length_mm        0.669166  0.199905  \n",
       "bill_depth_mm         0.719085  0.239305  \n",
       "flipper_length_mm     0.702667  0.197040  \n",
       "body_mass_g           1.000000  0.060962  \n",
       "year                  0.060962  1.000000  "
      ]
     },
     "execution_count": 29,
     "metadata": {},
     "output_type": "execute_result"
    }
   ],
   "source": [
    "penguins.loc[penguins['species'] == 'Gentoo'].corr()"
   ]
  },
  {
   "cell_type": "code",
   "execution_count": 30,
   "id": "46f4ea43",
   "metadata": {},
   "outputs": [
    {
     "data": {
      "text/html": [
       "<div>\n",
       "<style scoped>\n",
       "    .dataframe tbody tr th:only-of-type {\n",
       "        vertical-align: middle;\n",
       "    }\n",
       "\n",
       "    .dataframe tbody tr th {\n",
       "        vertical-align: top;\n",
       "    }\n",
       "\n",
       "    .dataframe thead th {\n",
       "        text-align: right;\n",
       "    }\n",
       "</style>\n",
       "<table border=\"1\" class=\"dataframe\">\n",
       "  <thead>\n",
       "    <tr style=\"text-align: right;\">\n",
       "      <th></th>\n",
       "      <th>bill_length_mm</th>\n",
       "      <th>bill_depth_mm</th>\n",
       "      <th>flipper_length_mm</th>\n",
       "      <th>body_mass_g</th>\n",
       "      <th>year</th>\n",
       "    </tr>\n",
       "  </thead>\n",
       "  <tbody>\n",
       "    <tr>\n",
       "      <th>bill_length_mm</th>\n",
       "      <td>1.000000</td>\n",
       "      <td>0.391492</td>\n",
       "      <td>0.325785</td>\n",
       "      <td>0.548866</td>\n",
       "      <td>0.025405</td>\n",
       "    </tr>\n",
       "    <tr>\n",
       "      <th>bill_depth_mm</th>\n",
       "      <td>0.391492</td>\n",
       "      <td>1.000000</td>\n",
       "      <td>0.307620</td>\n",
       "      <td>0.576138</td>\n",
       "      <td>-0.224031</td>\n",
       "    </tr>\n",
       "    <tr>\n",
       "      <th>flipper_length_mm</th>\n",
       "      <td>0.325785</td>\n",
       "      <td>0.307620</td>\n",
       "      <td>1.000000</td>\n",
       "      <td>0.468202</td>\n",
       "      <td>0.341926</td>\n",
       "    </tr>\n",
       "    <tr>\n",
       "      <th>body_mass_g</th>\n",
       "      <td>0.548866</td>\n",
       "      <td>0.576138</td>\n",
       "      <td>0.468202</td>\n",
       "      <td>1.000000</td>\n",
       "      <td>-0.029277</td>\n",
       "    </tr>\n",
       "    <tr>\n",
       "      <th>year</th>\n",
       "      <td>0.025405</td>\n",
       "      <td>-0.224031</td>\n",
       "      <td>0.341926</td>\n",
       "      <td>-0.029277</td>\n",
       "      <td>1.000000</td>\n",
       "    </tr>\n",
       "  </tbody>\n",
       "</table>\n",
       "</div>"
      ],
      "text/plain": [
       "                   bill_length_mm  bill_depth_mm  flipper_length_mm  \\\n",
       "bill_length_mm           1.000000       0.391492           0.325785   \n",
       "bill_depth_mm            0.391492       1.000000           0.307620   \n",
       "flipper_length_mm        0.325785       0.307620           1.000000   \n",
       "body_mass_g              0.548866       0.576138           0.468202   \n",
       "year                     0.025405      -0.224031           0.341926   \n",
       "\n",
       "                   body_mass_g      year  \n",
       "bill_length_mm        0.548866  0.025405  \n",
       "bill_depth_mm         0.576138 -0.224031  \n",
       "flipper_length_mm     0.468202  0.341926  \n",
       "body_mass_g           1.000000 -0.029277  \n",
       "year                 -0.029277  1.000000  "
      ]
     },
     "execution_count": 30,
     "metadata": {},
     "output_type": "execute_result"
    }
   ],
   "source": [
    "penguins.loc[penguins['species'] == 'Adelie'].corr()"
   ]
  },
  {
   "cell_type": "code",
   "execution_count": 31,
   "id": "d8f65e97",
   "metadata": {},
   "outputs": [
    {
     "data": {
      "text/html": [
       "<div>\n",
       "<style scoped>\n",
       "    .dataframe tbody tr th:only-of-type {\n",
       "        vertical-align: middle;\n",
       "    }\n",
       "\n",
       "    .dataframe tbody tr th {\n",
       "        vertical-align: top;\n",
       "    }\n",
       "\n",
       "    .dataframe thead th {\n",
       "        text-align: right;\n",
       "    }\n",
       "</style>\n",
       "<table border=\"1\" class=\"dataframe\">\n",
       "  <thead>\n",
       "    <tr style=\"text-align: right;\">\n",
       "      <th></th>\n",
       "      <th>bill_length_mm</th>\n",
       "      <th>bill_depth_mm</th>\n",
       "      <th>flipper_length_mm</th>\n",
       "      <th>body_mass_g</th>\n",
       "      <th>year</th>\n",
       "    </tr>\n",
       "  </thead>\n",
       "  <tbody>\n",
       "    <tr>\n",
       "      <th>bill_length_mm</th>\n",
       "      <td>1.000000</td>\n",
       "      <td>0.653536</td>\n",
       "      <td>0.471607</td>\n",
       "      <td>0.513638</td>\n",
       "      <td>0.042284</td>\n",
       "    </tr>\n",
       "    <tr>\n",
       "      <th>bill_depth_mm</th>\n",
       "      <td>0.653536</td>\n",
       "      <td>1.000000</td>\n",
       "      <td>0.580143</td>\n",
       "      <td>0.604498</td>\n",
       "      <td>-0.058754</td>\n",
       "    </tr>\n",
       "    <tr>\n",
       "      <th>flipper_length_mm</th>\n",
       "      <td>0.471607</td>\n",
       "      <td>0.580143</td>\n",
       "      <td>1.000000</td>\n",
       "      <td>0.641559</td>\n",
       "      <td>0.345773</td>\n",
       "    </tr>\n",
       "    <tr>\n",
       "      <th>body_mass_g</th>\n",
       "      <td>0.513638</td>\n",
       "      <td>0.604498</td>\n",
       "      <td>0.641559</td>\n",
       "      <td>1.000000</td>\n",
       "      <td>0.036712</td>\n",
       "    </tr>\n",
       "    <tr>\n",
       "      <th>year</th>\n",
       "      <td>0.042284</td>\n",
       "      <td>-0.058754</td>\n",
       "      <td>0.345773</td>\n",
       "      <td>0.036712</td>\n",
       "      <td>1.000000</td>\n",
       "    </tr>\n",
       "  </tbody>\n",
       "</table>\n",
       "</div>"
      ],
      "text/plain": [
       "                   bill_length_mm  bill_depth_mm  flipper_length_mm  \\\n",
       "bill_length_mm           1.000000       0.653536           0.471607   \n",
       "bill_depth_mm            0.653536       1.000000           0.580143   \n",
       "flipper_length_mm        0.471607       0.580143           1.000000   \n",
       "body_mass_g              0.513638       0.604498           0.641559   \n",
       "year                     0.042284      -0.058754           0.345773   \n",
       "\n",
       "                   body_mass_g      year  \n",
       "bill_length_mm        0.513638  0.042284  \n",
       "bill_depth_mm         0.604498 -0.058754  \n",
       "flipper_length_mm     0.641559  0.345773  \n",
       "body_mass_g           1.000000  0.036712  \n",
       "year                  0.036712  1.000000  "
      ]
     },
     "execution_count": 31,
     "metadata": {},
     "output_type": "execute_result"
    }
   ],
   "source": [
    "penguins.loc[penguins['species'] == 'Chinstrap'].corr()"
   ]
  },
  {
   "cell_type": "code",
   "execution_count": 32,
   "id": "5e3c6bf4",
   "metadata": {},
   "outputs": [
    {
     "data": {
      "image/png": "[encoded data removed]",
      "text/plain": [
       "<Figure size 720x432 with 1 Axes>"
      ]
     },
     "metadata": {},
     "output_type": "display_data"
    }
   ],
   "source": [
    "plt.figure(figsize = (10,6))\n",
    "\n",
    "sns.scatterplot(data = penguins.loc[penguins['species'] == 'Gentoo'],\n",
    "               x = 'bill_length_mm',\n",
    "               y = 'bill_depth_mm');"
   ]
  },
  {
   "cell_type": "code",
   "execution_count": null,
   "id": "421cb1e0",
   "metadata": {},
   "outputs": [],
   "source": []
  }
 ],
 "metadata": {
  "kernelspec": {
   "display_name": "Python 3 (ipykernel)",
   "language": "python",
   "name": "python3"
  },
  "language_info": {
   "codemirror_mode": {
    "name": "ipython",
    "version": 3
   },
   "file_extension": ".py",
   "mimetype": "text/x-python",
   "name": "python",
   "nbconvert_exporter": "python",
   "pygments_lexer": "ipython3",
   "version": "3.9.12"
  }
 },
 "nbformat": 4,
 "nbformat_minor": 5
}
