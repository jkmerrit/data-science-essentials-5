{
 "cells": [
  {
   "cell_type": "markdown",
   "id": "aff0e1d1",
   "metadata": {},
   "source": [
    "# Week 2 coding tasks\n",
    "## J.Merritt 2022_09_14"
   ]
  },
  {
   "cell_type": "markdown",
   "id": "22292e59",
   "metadata": {},
   "source": [
    "\n",
    "\n",
    " \n",
    "\n",
    "\n"
   ]
  },
  {
   "cell_type": "markdown",
   "id": "8f330993",
   "metadata": {},
   "source": [
    "**1. First, import the primary care physicians dataset (`primary_care_physicians.csv`) into a data frame named `physicians`.**"
   ]
  },
  {
   "cell_type": "code",
   "execution_count": 204,
   "id": "53acd0ed",
   "metadata": {},
   "outputs": [],
   "source": [
    "import pandas as pd"
   ]
  },
  {
   "cell_type": "code",
   "execution_count": 205,
   "id": "0d1200dd",
   "metadata": {},
   "outputs": [],
   "source": [
    "physicians = pd.read_csv('../data/primary_care_physicians.csv')"
   ]
  },
  {
   "cell_type": "code",
   "execution_count": 206,
   "id": "fd5475b7",
   "metadata": {},
   "outputs": [
    {
     "data": {
      "text/html": [
       "<div>\n",
       "<style scoped>\n",
       "    .dataframe tbody tr th:only-of-type {\n",
       "        vertical-align: middle;\n",
       "    }\n",
       "\n",
       "    .dataframe tbody tr th {\n",
       "        vertical-align: top;\n",
       "    }\n",
       "\n",
       "    .dataframe thead th {\n",
       "        text-align: right;\n",
       "    }\n",
       "</style>\n",
       "<table border=\"1\" class=\"dataframe\">\n",
       "  <thead>\n",
       "    <tr style=\"text-align: right;\">\n",
       "      <th></th>\n",
       "      <th>FIPS</th>\n",
       "      <th>state</th>\n",
       "      <th>county</th>\n",
       "      <th>primary_care_physicians</th>\n",
       "    </tr>\n",
       "  </thead>\n",
       "  <tbody>\n",
       "    <tr>\n",
       "      <th>0</th>\n",
       "      <td>1001</td>\n",
       "      <td>Alabama</td>\n",
       "      <td>Autauga</td>\n",
       "      <td>26.0</td>\n",
       "    </tr>\n",
       "    <tr>\n",
       "      <th>1</th>\n",
       "      <td>1003</td>\n",
       "      <td>Alabama</td>\n",
       "      <td>Baldwin</td>\n",
       "      <td>153.0</td>\n",
       "    </tr>\n",
       "    <tr>\n",
       "      <th>2</th>\n",
       "      <td>1005</td>\n",
       "      <td>Alabama</td>\n",
       "      <td>Barbour</td>\n",
       "      <td>8.0</td>\n",
       "    </tr>\n",
       "    <tr>\n",
       "      <th>3</th>\n",
       "      <td>1007</td>\n",
       "      <td>Alabama</td>\n",
       "      <td>Bibb</td>\n",
       "      <td>12.0</td>\n",
       "    </tr>\n",
       "    <tr>\n",
       "      <th>4</th>\n",
       "      <td>1009</td>\n",
       "      <td>Alabama</td>\n",
       "      <td>Blount</td>\n",
       "      <td>12.0</td>\n",
       "    </tr>\n",
       "  </tbody>\n",
       "</table>\n",
       "</div>"
      ],
      "text/plain": [
       "   FIPS    state   county  primary_care_physicians\n",
       "0  1001  Alabama  Autauga                     26.0\n",
       "1  1003  Alabama  Baldwin                    153.0\n",
       "2  1005  Alabama  Barbour                      8.0\n",
       "3  1007  Alabama     Bibb                     12.0\n",
       "4  1009  Alabama   Blount                     12.0"
      ]
     },
     "execution_count": 206,
     "metadata": {},
     "output_type": "execute_result"
    }
   ],
   "source": [
    "physicians.head()"
   ]
  },
  {
   "cell_type": "markdown",
   "id": "107d54fd",
   "metadata": {},
   "source": [
    "**2. Filter `physicians` down to just the counties in Tennessee. Save the filtered dataframe back to `physicians`. Verify that the resulting dataframe has 95 rows.**"
   ]
  },
  {
   "cell_type": "code",
   "execution_count": 207,
   "id": "fb7a771f",
   "metadata": {},
   "outputs": [],
   "source": [
    "physicians = physicians.loc[physicians['state'] == 'Tennessee']"
   ]
  },
  {
   "cell_type": "code",
   "execution_count": 208,
   "id": "820f1fec",
   "metadata": {},
   "outputs": [
    {
     "data": {
      "text/plain": [
       "<bound method DataFrame.info of        FIPS      state      county  primary_care_physicians\n",
       "2432  47001  Tennessee    Anderson                     39.0\n",
       "2433  47003  Tennessee     Bedford                     15.0\n",
       "2434  47005  Tennessee      Benton                      3.0\n",
       "2435  47007  Tennessee     Bledsoe                      1.0\n",
       "2436  47009  Tennessee      Blount                     90.0\n",
       "...     ...        ...         ...                      ...\n",
       "2522  47181  Tennessee       Wayne                      5.0\n",
       "2523  47183  Tennessee     Weakley                     18.0\n",
       "2524  47185  Tennessee       White                      9.0\n",
       "2525  47187  Tennessee  Williamson                    338.0\n",
       "2526  47189  Tennessee      Wilson                     43.0\n",
       "\n",
       "[95 rows x 4 columns]>"
      ]
     },
     "execution_count": 208,
     "metadata": {},
     "output_type": "execute_result"
    }
   ],
   "source": [
    "physicians.info"
   ]
  },
  {
   "cell_type": "markdown",
   "id": "d1059311",
   "metadata": {},
   "source": [
    "**3. Look at the distribution of the number of primary care physicians. What do you notice?**\n",
    "##### There is a massive variation in the number of pcp's between counties"
   ]
  },
  {
   "cell_type": "code",
   "execution_count": 209,
   "id": "5c67af43",
   "metadata": {},
   "outputs": [
    {
     "data": {
      "text/html": [
       "<div>\n",
       "<style scoped>\n",
       "    .dataframe tbody tr th:only-of-type {\n",
       "        vertical-align: middle;\n",
       "    }\n",
       "\n",
       "    .dataframe tbody tr th {\n",
       "        vertical-align: top;\n",
       "    }\n",
       "\n",
       "    .dataframe thead th {\n",
       "        text-align: right;\n",
       "    }\n",
       "</style>\n",
       "<table border=\"1\" class=\"dataframe\">\n",
       "  <thead>\n",
       "    <tr style=\"text-align: right;\">\n",
       "      <th></th>\n",
       "      <th>FIPS</th>\n",
       "      <th>primary_care_physicians</th>\n",
       "    </tr>\n",
       "  </thead>\n",
       "  <tbody>\n",
       "    <tr>\n",
       "      <th>count</th>\n",
       "      <td>95.000000</td>\n",
       "      <td>95.000000</td>\n",
       "    </tr>\n",
       "    <tr>\n",
       "      <th>mean</th>\n",
       "      <td>47095.000000</td>\n",
       "      <td>51.042105</td>\n",
       "    </tr>\n",
       "    <tr>\n",
       "      <th>std</th>\n",
       "      <td>55.136195</td>\n",
       "      <td>129.311426</td>\n",
       "    </tr>\n",
       "    <tr>\n",
       "      <th>min</th>\n",
       "      <td>47001.000000</td>\n",
       "      <td>0.000000</td>\n",
       "    </tr>\n",
       "    <tr>\n",
       "      <th>25%</th>\n",
       "      <td>47048.000000</td>\n",
       "      <td>4.500000</td>\n",
       "    </tr>\n",
       "    <tr>\n",
       "      <th>50%</th>\n",
       "      <td>47095.000000</td>\n",
       "      <td>12.000000</td>\n",
       "    </tr>\n",
       "    <tr>\n",
       "      <th>75%</th>\n",
       "      <td>47142.000000</td>\n",
       "      <td>26.500000</td>\n",
       "    </tr>\n",
       "    <tr>\n",
       "      <th>max</th>\n",
       "      <td>47189.000000</td>\n",
       "      <td>806.000000</td>\n",
       "    </tr>\n",
       "  </tbody>\n",
       "</table>\n",
       "</div>"
      ],
      "text/plain": [
       "               FIPS  primary_care_physicians\n",
       "count     95.000000                95.000000\n",
       "mean   47095.000000                51.042105\n",
       "std       55.136195               129.311426\n",
       "min    47001.000000                 0.000000\n",
       "25%    47048.000000                 4.500000\n",
       "50%    47095.000000                12.000000\n",
       "75%    47142.000000                26.500000\n",
       "max    47189.000000               806.000000"
      ]
     },
     "execution_count": 209,
     "metadata": {},
     "output_type": "execute_result"
    }
   ],
   "source": [
    "physicians.describe()"
   ]
  },
  {
   "cell_type": "markdown",
   "id": "8981ba03",
   "metadata": {},
   "source": [
    "**4. Now, import the population by county dataset (`population_by_county.csv`) into a DataFrame named `population`.**"
   ]
  },
  {
   "cell_type": "code",
   "execution_count": 210,
   "id": "b41d455c",
   "metadata": {},
   "outputs": [],
   "source": [
    "population = pd.read_csv('../data/population_by_county.csv')"
   ]
  },
  {
   "cell_type": "code",
   "execution_count": 211,
   "id": "4a3e2c57",
   "metadata": {},
   "outputs": [
    {
     "data": {
      "text/html": [
       "<div>\n",
       "<style scoped>\n",
       "    .dataframe tbody tr th:only-of-type {\n",
       "        vertical-align: middle;\n",
       "    }\n",
       "\n",
       "    .dataframe tbody tr th {\n",
       "        vertical-align: top;\n",
       "    }\n",
       "\n",
       "    .dataframe thead th {\n",
       "        text-align: right;\n",
       "    }\n",
       "</style>\n",
       "<table border=\"1\" class=\"dataframe\">\n",
       "  <thead>\n",
       "    <tr style=\"text-align: right;\">\n",
       "      <th></th>\n",
       "      <th>FIPS</th>\n",
       "      <th>population</th>\n",
       "      <th>county</th>\n",
       "      <th>state</th>\n",
       "      <th>urban</th>\n",
       "    </tr>\n",
       "  </thead>\n",
       "  <tbody>\n",
       "    <tr>\n",
       "      <th>0</th>\n",
       "      <td>17051</td>\n",
       "      <td>21565</td>\n",
       "      <td>Fayette County</td>\n",
       "      <td>ILLINOIS</td>\n",
       "      <td>Rural</td>\n",
       "    </tr>\n",
       "    <tr>\n",
       "      <th>1</th>\n",
       "      <td>17107</td>\n",
       "      <td>29003</td>\n",
       "      <td>Logan County</td>\n",
       "      <td>ILLINOIS</td>\n",
       "      <td>Rural</td>\n",
       "    </tr>\n",
       "    <tr>\n",
       "      <th>2</th>\n",
       "      <td>17165</td>\n",
       "      <td>23994</td>\n",
       "      <td>Saline County</td>\n",
       "      <td>ILLINOIS</td>\n",
       "      <td>Rural</td>\n",
       "    </tr>\n",
       "    <tr>\n",
       "      <th>3</th>\n",
       "      <td>17097</td>\n",
       "      <td>701473</td>\n",
       "      <td>Lake County</td>\n",
       "      <td>ILLINOIS</td>\n",
       "      <td>Urban</td>\n",
       "    </tr>\n",
       "    <tr>\n",
       "      <th>4</th>\n",
       "      <td>17127</td>\n",
       "      <td>14219</td>\n",
       "      <td>Massac County</td>\n",
       "      <td>ILLINOIS</td>\n",
       "      <td>Rural</td>\n",
       "    </tr>\n",
       "  </tbody>\n",
       "</table>\n",
       "</div>"
      ],
      "text/plain": [
       "    FIPS  population          county     state  urban\n",
       "0  17051       21565  Fayette County  ILLINOIS  Rural\n",
       "1  17107       29003    Logan County  ILLINOIS  Rural\n",
       "2  17165       23994   Saline County  ILLINOIS  Rural\n",
       "3  17097      701473     Lake County  ILLINOIS  Urban\n",
       "4  17127       14219   Massac County  ILLINOIS  Rural"
      ]
     },
     "execution_count": 211,
     "metadata": {},
     "output_type": "execute_result"
    }
   ],
   "source": [
    "population.head()"
   ]
  },
  {
   "cell_type": "markdown",
   "id": "4094a49e",
   "metadata": {},
   "source": [
    "**5. Merge the `physicians` DataFrame with the `population` DataFrame. Keep only the values for Tennessee. When you merge, be sure the include both the `population` and `urban` columns in the merged results. Save the result of the merge back to `physicians`.**"
   ]
  },
  {
   "cell_type": "code",
   "execution_count": 212,
   "id": "8845e808",
   "metadata": {},
   "outputs": [],
   "source": [
    "physicians = pd.merge(left = physicians, \n",
    "                      right = population[['FIPS', 'population', 'urban']], \n",
    "                      on = 'FIPS')"
   ]
  },
  {
   "cell_type": "code",
   "execution_count": 213,
   "id": "2ce7237c",
   "metadata": {},
   "outputs": [],
   "source": [
    "# alternative:\n",
    "# population['county'] = population['county'].str.replace(' County', '')\n",
    "# physicians = pd.merge(left = physicians, \n",
    "#                 right = population.loc[population['state'] \n",
    "#                                        == 'TENNESSEE'][['population', 'urban', 'county']], \n",
    "#                 on = 'county'\n",
    "#                 )"
   ]
  },
  {
   "cell_type": "markdown",
   "id": "f6477a75",
   "metadata": {},
   "source": [
    "**6. How many Tennessee counties are considered urban?**\n",
    "##### 38"
   ]
  },
  {
   "cell_type": "code",
   "execution_count": 214,
   "id": "f763743e",
   "metadata": {},
   "outputs": [
    {
     "data": {
      "text/plain": [
       "38"
      ]
     },
     "execution_count": 214,
     "metadata": {},
     "output_type": "execute_result"
    }
   ],
   "source": [
    "len(physicians.loc[physicians['urban'] == 'Urban'])"
   ]
  },
  {
   "cell_type": "markdown",
   "id": "2a76fe0e",
   "metadata": {},
   "source": [
    "**7. The State Health Access Data Assistance Center (SHADAC) (https://www.shadac.org/) classifies counties into three groups based on the number of residents per primary care physician. First, counties with fewer than 1500 residents per primary care physician are considered to have an \"adequate\" supply. Counties with at least 1500 residents but fewer than 3500 residents per primary care physician are considered to have a \"moderately inadequate\" supply, and counties with at least 3500 residents per primary care physician are considered to have a \"low inadequate\" supply. How many counties in Tennessee are in each group?** "
   ]
  },
  {
   "cell_type": "markdown",
   "id": "e3f6b29a",
   "metadata": {},
   "source": [
    "Create a column ('res_per_pcp') with values calculated from the 'population' divided by 'primary_care_physicians'.\n",
    "Create a column 'health_access' populated with NA's, replate with 'adequate', 'moderately_inadequate', or 'low_inadequate' based on the conditions above\n",
    "Create a new data frame ('tn_health_access') that displays the number of counties in each health access descriptor. "
   ]
  },
  {
   "cell_type": "code",
   "execution_count": 215,
   "id": "da1dd154",
   "metadata": {},
   "outputs": [],
   "source": [
    "physicians['res_per_pcp'] = physicians['population'] / physicians['primary_care_physicians']\n",
    "physicians['health_access'] = 'NA'\n",
    "physicians.loc[physicians['res_per_pcp'] < 1500, 'health_access'] = 'adequate'\n",
    "physicians.loc[(physicians['res_per_pcp'] >= 1500) & \n",
    "               (physicians['res_per_pcp'] < 3500), 'health_access'] = 'moderately_inadequate'\n",
    "physicians.loc[(physicians['res_per_pcp'] >= 3500) | \n",
    "               (physicians['primary_care_physicians'] == 0), 'health_access'] = 'low_inadequate'"
   ]
  },
  {
   "cell_type": "code",
   "execution_count": 216,
   "id": "6bfb036e",
   "metadata": {},
   "outputs": [],
   "source": [
    "tn_health_access = pd.DataFrame()"
   ]
  },
  {
   "cell_type": "code",
   "execution_count": 217,
   "id": "c60d47d1",
   "metadata": {},
   "outputs": [],
   "source": [
    "tn_health_access['health_access'] = ['adequate', 'moderately_inadequate', 'low_inadequate']\n",
    "tn_health_access['counties'] = [len(physicians.loc[physicians['health_access'] == 'adequate']),\n",
    "                                len(physicians.loc[physicians['health_access'] == 'moderately_inadequate']),\n",
    "                                len(physicians.loc[physicians['health_access'] == 'low_inadequate'])\n",
    "                               ]"
   ]
  },
  {
   "cell_type": "code",
   "execution_count": 218,
   "id": "4b4d2fc0",
   "metadata": {},
   "outputs": [
    {
     "data": {
      "text/html": [
       "<div>\n",
       "<style scoped>\n",
       "    .dataframe tbody tr th:only-of-type {\n",
       "        vertical-align: middle;\n",
       "    }\n",
       "\n",
       "    .dataframe tbody tr th {\n",
       "        vertical-align: top;\n",
       "    }\n",
       "\n",
       "    .dataframe thead th {\n",
       "        text-align: right;\n",
       "    }\n",
       "</style>\n",
       "<table border=\"1\" class=\"dataframe\">\n",
       "  <thead>\n",
       "    <tr style=\"text-align: right;\">\n",
       "      <th></th>\n",
       "      <th>health_access</th>\n",
       "      <th>counties</th>\n",
       "    </tr>\n",
       "  </thead>\n",
       "  <tbody>\n",
       "    <tr>\n",
       "      <th>0</th>\n",
       "      <td>adequate</td>\n",
       "      <td>14</td>\n",
       "    </tr>\n",
       "    <tr>\n",
       "      <th>1</th>\n",
       "      <td>moderately_inadequate</td>\n",
       "      <td>50</td>\n",
       "    </tr>\n",
       "    <tr>\n",
       "      <th>2</th>\n",
       "      <td>low_inadequate</td>\n",
       "      <td>31</td>\n",
       "    </tr>\n",
       "  </tbody>\n",
       "</table>\n",
       "</div>"
      ],
      "text/plain": [
       "           health_access  counties\n",
       "0               adequate        14\n",
       "1  moderately_inadequate        50\n",
       "2         low_inadequate        31"
      ]
     },
     "execution_count": 218,
     "metadata": {},
     "output_type": "execute_result"
    }
   ],
   "source": [
    "tn_health_access"
   ]
  },
  {
   "cell_type": "markdown",
   "id": "ddaf96df",
   "metadata": {},
   "source": [
    "**8. Does there appear to be any detectable relationship between whether a county is urban or rural and its supply of primary care physicians?**\n",
    "##### Rural counties are ~twice as likely to have low inadequate access to a pcp than an urban county."
   ]
  },
  {
   "cell_type": "markdown",
   "id": "01727ad5",
   "metadata": {},
   "source": [
    "Append the 'tn_health_access' data frame with new columns ('rural' and 'urban') with values computed for the number of urban or rural counties meeting each health access condition.\n"
   ]
  },
  {
   "cell_type": "code",
   "execution_count": 219,
   "id": "b125b7a0",
   "metadata": {},
   "outputs": [],
   "source": [
    "tn_health_access['urban'] = [len(physicians.loc[(physicians['health_access'] == 'adequate') &\n",
    "                                                (physicians['urban'] == 'Urban')]),\n",
    "                             len(physicians.loc[(physicians['health_access'] == 'moderately_inadequate') &\n",
    "                                                (physicians['urban'] == 'Urban')]),\n",
    "                             len(physicians.loc[(physicians['health_access'] == 'low_inadequate') &\n",
    "                                                (physicians['urban'] == 'Urban')])\n",
    "                               ]"
   ]
  },
  {
   "cell_type": "code",
   "execution_count": 220,
   "id": "8e437ea1",
   "metadata": {},
   "outputs": [],
   "source": [
    "tn_health_access['rural'] = [len(physicians.loc[(physicians['health_access'] == 'adequate') &\n",
    "                                                ~(physicians['urban'] == 'Urban')]),\n",
    "                             len(physicians.loc[(physicians['health_access'] == 'moderately_inadequate') &\n",
    "                                                ~(physicians['urban'] == 'Urban')]),\n",
    "                             len(physicians.loc[(physicians['health_access'] == 'low_inadequate') &\n",
    "                                                ~(physicians['urban'] == 'Urban')])\n",
    "                               ]"
   ]
  },
  {
   "cell_type": "markdown",
   "id": "38966a39",
   "metadata": {},
   "source": [
    "Compute normalized frequency of rural and urban counties within each health access grouping"
   ]
  },
  {
   "cell_type": "code",
   "execution_count": 221,
   "id": "31d60c22",
   "metadata": {},
   "outputs": [],
   "source": [
    "tn_health_access['rural_to_urban'] = tn_health_access['rural'] / tn_health_access['urban']"
   ]
  },
  {
   "cell_type": "code",
   "execution_count": 222,
   "id": "6c00b105",
   "metadata": {},
   "outputs": [
    {
     "data": {
      "text/html": [
       "<div>\n",
       "<style scoped>\n",
       "    .dataframe tbody tr th:only-of-type {\n",
       "        vertical-align: middle;\n",
       "    }\n",
       "\n",
       "    .dataframe tbody tr th {\n",
       "        vertical-align: top;\n",
       "    }\n",
       "\n",
       "    .dataframe thead th {\n",
       "        text-align: right;\n",
       "    }\n",
       "</style>\n",
       "<table border=\"1\" class=\"dataframe\">\n",
       "  <thead>\n",
       "    <tr style=\"text-align: right;\">\n",
       "      <th></th>\n",
       "      <th>health_access</th>\n",
       "      <th>counties</th>\n",
       "      <th>urban</th>\n",
       "      <th>rural</th>\n",
       "      <th>rural_to_urban</th>\n",
       "    </tr>\n",
       "  </thead>\n",
       "  <tbody>\n",
       "    <tr>\n",
       "      <th>0</th>\n",
       "      <td>adequate</td>\n",
       "      <td>14</td>\n",
       "      <td>9</td>\n",
       "      <td>5</td>\n",
       "      <td>0.555556</td>\n",
       "    </tr>\n",
       "    <tr>\n",
       "      <th>1</th>\n",
       "      <td>moderately_inadequate</td>\n",
       "      <td>50</td>\n",
       "      <td>19</td>\n",
       "      <td>31</td>\n",
       "      <td>1.631579</td>\n",
       "    </tr>\n",
       "    <tr>\n",
       "      <th>2</th>\n",
       "      <td>low_inadequate</td>\n",
       "      <td>31</td>\n",
       "      <td>10</td>\n",
       "      <td>21</td>\n",
       "      <td>2.100000</td>\n",
       "    </tr>\n",
       "  </tbody>\n",
       "</table>\n",
       "</div>"
      ],
      "text/plain": [
       "           health_access  counties  urban  rural  rural_to_urban\n",
       "0               adequate        14      9      5        0.555556\n",
       "1  moderately_inadequate        50     19     31        1.631579\n",
       "2         low_inadequate        31     10     21        2.100000"
      ]
     },
     "execution_count": 222,
     "metadata": {},
     "output_type": "execute_result"
    }
   ],
   "source": [
    "tn_health_access"
   ]
  }
 ],
 "metadata": {
  "kernelspec": {
   "display_name": "Python 3 (ipykernel)",
   "language": "python",
   "name": "python3"
  },
  "language_info": {
   "codemirror_mode": {
    "name": "ipython",
    "version": 3
   },
   "file_extension": ".py",
   "mimetype": "text/x-python",
   "name": "python",
   "nbconvert_exporter": "python",
   "pygments_lexer": "ipython3",
   "version": "3.9.12"
  }
 },
 "nbformat": 4,
 "nbformat_minor": 5
}
